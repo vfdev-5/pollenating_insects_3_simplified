{
 "cells": [
  {
   "cell_type": "markdown",
   "metadata": {},
   "source": [
    "Check image loader performances"
   ]
  },
  {
   "cell_type": "code",
   "execution_count": null,
   "metadata": {},
   "outputs": [],
   "source": [
    "# !cd ../../../ramp-workflow/ && python setup.py install"
   ]
  },
  {
   "cell_type": "code",
   "execution_count": 1,
   "metadata": {},
   "outputs": [],
   "source": [
    "# https://ipython.org/ipython-doc/3/config/extensions/autoreload.html\n",
    "%load_ext autoreload\n",
    "%autoreload 2"
   ]
  },
  {
   "cell_type": "code",
   "execution_count": 2,
   "metadata": {},
   "outputs": [],
   "source": [
    "from __future__ import print_function\n",
    "import os, sys\n",
    "\n",
    "sys.path.append(\"../submissions\")\n",
    "sys.path.append(\"..\")\n",
    "\n",
    "from rampwf.workflows.simplified_image_classifier import ImageLoader\n",
    "from problem import get_cv, get_train_data"
   ]
  },
  {
   "cell_type": "code",
   "execution_count": 3,
   "metadata": {},
   "outputs": [],
   "source": [
    "folder_X_array, y_array = get_train_data(path=\"..\")\n",
    "cv = list(get_cv(folder_X_array, y_array))\n",
    "\n",
    "for fold_i, (train_is, valid_is) in enumerate(cv):\n",
    "\n",
    "    folder, X_array = folder_X_array\n",
    "    if train_is is None:\n",
    "        train_is = slice(None, None, None)\n",
    "\n",
    "    img_loader = ImageLoader(X_array[train_is], y_array[train_is], folder=folder, n_classes=403)\n",
    "\n",
    "    \n",
    "# img_loader.setup_backend('opencv')"
   ]
  },
  {
   "cell_type": "code",
   "execution_count": null,
   "metadata": {},
   "outputs": [],
   "source": []
  },
  {
   "cell_type": "markdown",
   "metadata": {},
   "source": [
    "Check each backend "
   ]
  },
  {
   "cell_type": "code",
   "execution_count": 5,
   "metadata": {},
   "outputs": [],
   "source": [
    "from time import time"
   ]
  },
  {
   "cell_type": "code",
   "execution_count": 6,
   "metadata": {},
   "outputs": [
    {
     "name": "stdout",
     "output_type": "stream",
     "text": [
      "Epoch : 0 / 5, n_samples=11670\n",
      "0 . 1000 . 2000 . 3000 . 4000 . 5000 . 6000 . 7000 . 8000 . 9000 . 10000 . 11000 . Epoch time: 148.139643908\n",
      "Epoch : 1 / 5, n_samples=11670\n",
      "0 . 1000 . 2000 . 3000 . 4000 . 5000 . 6000 . 7000 . 8000 . 9000 . 10000 . 11000 . Epoch time: 148.038290024\n",
      "Epoch : 2 / 5, n_samples=11670\n",
      "0 . 1000 . 2000 . 3000 . 4000 . 5000 . 6000 . 7000 . 8000 . 9000 . 10000 . 11000 . Epoch time: 148.08396697\n",
      "Epoch : 3 / 5, n_samples=11670\n",
      "0 . 1000 . 2000 . 3000 . 4000 . 5000 . 6000 . 7000 . 8000 . 9000 . 10000 . 11000 . Epoch time: 147.941848993\n",
      "Epoch : 4 / 5, n_samples=11670\n",
      "0 . 1000 . 2000 . 3000 . 4000 . 5000 . 6000 . 7000 . 8000 . 9000 . 10000 . 11000 . Epoch time: 148.144033909\n",
      "Mean epoch time: 148.069556761\n"
     ]
    }
   ],
   "source": [
    "b = 'skimage'\n",
    "n_epochs = 5\n",
    "n_samples = len(img_loader)/4\n",
    "\n",
    "img_loader.setup_backend(b)\n",
    "mean_time = 0\n",
    "\n",
    "for e in range(n_epochs):\n",
    "    print(\"Epoch : %i / %i, n_samples=%i\" % (e + 1, n_epochs, n_samples))\n",
    "    start = time()\n",
    "    for i in range(n_samples):\n",
    "        img_loader.load(i)\n",
    "        if i % 1000 == 0:\n",
    "            print(i, end=' . ')\n",
    "    end = time()\n",
    "    elapsed = end - start\n",
    "    mean_time += elapsed\n",
    "    print(\"Epoch time: {}\".format(elapsed))\n",
    "print(\"Mean epoch time: {}\".format(mean_time / n_epochs))\n"
   ]
  },
  {
   "cell_type": "code",
   "execution_count": 7,
   "metadata": {},
   "outputs": [
    {
     "name": "stdout",
     "output_type": "stream",
     "text": [
      "Epoch : 1 / 5, n_samples=11670\n",
      "0 . 1000 . 2000 . 3000 . 4000 . 5000 . 6000 . 7000 . 8000 . 9000 . 10000 . 11000 . Epoch time: 123.531937838\n",
      "Epoch : 2 / 5, n_samples=11670\n",
      "0 . 1000 . 2000 . 3000 . 4000 . 5000 . 6000 . 7000 . 8000 . 9000 . 10000 . 11000 . Epoch time: 123.20210886\n",
      "Epoch : 3 / 5, n_samples=11670\n",
      "0 . 1000 . 2000 . 3000 . 4000 . 5000 . 6000 . 7000 . 8000 . 9000 . 10000 . 11000 . Epoch time: 122.008262873\n",
      "Epoch : 4 / 5, n_samples=11670\n",
      "0 . 1000 . 2000 . 3000 . 4000 . 5000 . 6000 . 7000 . 8000 . 9000 . 10000 . 11000 . Epoch time: 123.756311893\n",
      "Epoch : 5 / 5, n_samples=11670\n",
      "0 . 1000 . 2000 . 3000 . 4000 . 5000 . 6000 . 7000 . 8000 . 9000 . 10000 . 11000 . Epoch time: 122.303833008\n",
      "Mean epoch time: 122.960490894\n"
     ]
    }
   ],
   "source": [
    "b = 'opencv'\n",
    "n_epochs = 5\n",
    "n_samples = len(img_loader)/4\n",
    "\n",
    "img_loader.setup_backend(b)\n",
    "mean_time = 0\n",
    "\n",
    "for e in range(n_epochs):\n",
    "    print(\"Epoch : %i / %i, n_samples=%i\" % (e + 1, n_epochs, n_samples))\n",
    "    start = time()\n",
    "    for i in range(n_samples):\n",
    "        img_loader.load(i)\n",
    "        if i % 1000 == 0:\n",
    "            print(i, end=' . ')\n",
    "    end = time()\n",
    "    elapsed = end - start\n",
    "    mean_time += elapsed\n",
    "    print(\"Epoch time: {}\".format(elapsed))\n",
    "print(\"Mean epoch time: {}\".format(mean_time / n_epochs))\n"
   ]
  },
  {
   "cell_type": "code",
   "execution_count": 8,
   "metadata": {},
   "outputs": [
    {
     "name": "stdout",
     "output_type": "stream",
     "text": [
      "Epoch : 1 / 5, n_samples=11670\n",
      "0 . 1000 . 2000 . 3000 . 4000 . 5000 . 6000 . 7000 . 8000 . 9000 . 10000 . 11000 . Epoch time: 128.705247164\n",
      "Epoch : 2 / 5, n_samples=11670\n",
      "0 . 1000 . 2000 . 3000 . 4000 . 5000 . 6000 . 7000 . 8000 . 9000 . 10000 . 11000 . Epoch time: 128.782455921\n",
      "Epoch : 3 / 5, n_samples=11670\n",
      "0 . 1000 . 2000 . 3000 . 4000 . 5000 . 6000 . 7000 . 8000 . 9000 . 10000 . 11000 . Epoch time: 128.739259958\n",
      "Epoch : 4 / 5, n_samples=11670\n",
      "0 . 1000 . 2000 . 3000 . 4000 . 5000 . 6000 . 7000 . 8000 . 9000 . 10000 . 11000 . Epoch time: 128.678661823\n",
      "Epoch : 5 / 5, n_samples=11670\n",
      "0 . 1000 . 2000 . 3000 . 4000 . 5000 . 6000 . 7000 . 8000 . 9000 . 10000 . 11000 . Epoch time: 128.828619003\n",
      "Mean epoch time: 128.746848774\n"
     ]
    }
   ],
   "source": [
    "b = 'pillow'\n",
    "n_epochs = 5\n",
    "n_samples = len(img_loader)/4\n",
    "\n",
    "img_loader.setup_backend(b)\n",
    "mean_time = 0\n",
    "\n",
    "for e in range(n_epochs):\n",
    "    print(\"Epoch : %i / %i, n_samples=%i\" % (e + 1, n_epochs, n_samples))\n",
    "    start = time()\n",
    "    for i in range(n_samples):\n",
    "        img_loader.load(i)\n",
    "        if i % 1000 == 0:\n",
    "            print(i, end=' . ')\n",
    "    end = time()\n",
    "    elapsed = end - start\n",
    "    mean_time += elapsed\n",
    "    print(\"Epoch time: {}\".format(elapsed))\n",
    "print(\"Mean epoch time: {}\".format(mean_time / n_epochs))\n"
   ]
  },
  {
   "cell_type": "code",
   "execution_count": 6,
   "metadata": {},
   "outputs": [
    {
     "name": "stdout",
     "output_type": "stream",
     "text": [
      "Epoch : 1 / 5, n_samples=11670\n",
      "0 . 1000 . 2000 . 3000 . 4000 . 5000 . 6000 . 7000 . 8000 . 9000 . 10000 . 11000 . Epoch time: 137.004801989\n",
      "Epoch : 2 / 5, n_samples=11670\n",
      "0 . 1000 . 2000 . 3000 . 4000 . 5000 . 6000 . 7000 . 8000 . 9000 . 10000 . 11000 . Epoch time: 134.289206028\n",
      "Epoch : 3 / 5, n_samples=11670\n",
      "0 . 1000 . 2000 . 3000 . 4000 . 5000 . 6000 . 7000 . 8000 . 9000 . 10000 . 11000 . Epoch time: 134.181391001\n",
      "Epoch : 4 / 5, n_samples=11670\n",
      "0 . 1000 . 2000 . 3000 . 4000 . 5000 . 6000 . 7000 . 8000 . 9000 . 10000 . 11000 . Epoch time: 134.158514977\n",
      "Epoch : 5 / 5, n_samples=11670\n",
      "0 . 1000 . 2000 . 3000 . 4000 . 5000 . 6000 . 7000 . 8000 . 9000 . 10000 . 11000 . Epoch time: 134.29143095\n",
      "Mean epoch time: 134.785068989\n"
     ]
    }
   ],
   "source": [
    "b = 'pillow'\n",
    "n_epochs = 5\n",
    "n_samples = len(img_loader)/4\n",
    "\n",
    "img_loader.setup_backend(b)\n",
    "mean_time = 0\n",
    "\n",
    "for e in range(n_epochs):\n",
    "    print(\"Epoch : %i / %i, n_samples=%i\" % (e + 1, n_epochs, n_samples))\n",
    "    start = time()\n",
    "    for i in range(n_samples):\n",
    "        img_loader.load(i)\n",
    "        if i % 1000 == 0:\n",
    "            print(i, end=' . ')\n",
    "    end = time()\n",
    "    elapsed = end - start\n",
    "    mean_time += elapsed\n",
    "    print(\"Epoch time: {}\".format(elapsed))\n",
    "print(\"Mean epoch time: {}\".format(mean_time / n_epochs))\n"
   ]
  },
  {
   "cell_type": "code",
   "execution_count": null,
   "metadata": {},
   "outputs": [],
   "source": []
  }
 ],
 "metadata": {
  "kernelspec": {
   "display_name": "Python 2",
   "language": "python",
   "name": "python2"
  },
  "language_info": {
   "codemirror_mode": {
    "name": "ipython",
    "version": 2
   },
   "file_extension": ".py",
   "mimetype": "text/x-python",
   "name": "python",
   "nbconvert_exporter": "python",
   "pygments_lexer": "ipython2",
   "version": "2.7.12"
  }
 },
 "nbformat": 4,
 "nbformat_minor": 2
}
