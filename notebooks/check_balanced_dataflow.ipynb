{
 "cells": [
  {
   "cell_type": "markdown",
   "metadata": {},
   "source": [
    "Check batch generator from image loader"
   ]
  },
  {
   "cell_type": "code",
   "execution_count": 43,
   "metadata": {
    "collapsed": true
   },
   "outputs": [
    {
     "name": "stdout",
     "output_type": "stream",
     "text": [
      "/usr/local/lib/python2.7/dist-packages/setuptools/dist.py:351: UserWarning: Normalizing '0.1.dev' to '0.1.dev0'\n",
      "  normalized_version,\n",
      "running install\n",
      "running bdist_egg\n",
      "running egg_info\n",
      "writing requirements to ramp_workflow.egg-info/requires.txt\n",
      "writing ramp_workflow.egg-info/PKG-INFO\n",
      "writing top-level names to ramp_workflow.egg-info/top_level.txt\n",
      "writing dependency_links to ramp_workflow.egg-info/dependency_links.txt\n",
      "writing entry points to ramp_workflow.egg-info/entry_points.txt\n",
      "reading manifest file 'ramp_workflow.egg-info/SOURCES.txt'\n",
      "writing manifest file 'ramp_workflow.egg-info/SOURCES.txt'\n",
      "installing library code to build/bdist.linux-x86_64/egg\n",
      "running install_lib\n",
      "running build_py\n",
      "copying rampwf/utils/testing.py -> build/lib.linux-x86_64-2.7/rampwf/utils\n",
      "creating build/bdist.linux-x86_64/egg\n",
      "creating build/bdist.linux-x86_64/egg/rampwf\n",
      "creating build/bdist.linux-x86_64/egg/rampwf/workflows\n",
      "copying build/lib.linux-x86_64-2.7/rampwf/workflows/grid_feature_extractor.py -> build/bdist.linux-x86_64/egg/rampwf/workflows\n",
      "copying build/lib.linux-x86_64-2.7/rampwf/workflows/__init__.py -> build/bdist.linux-x86_64/egg/rampwf/workflows\n",
      "copying build/lib.linux-x86_64-2.7/rampwf/workflows/classifier.py -> build/bdist.linux-x86_64/egg/rampwf/workflows\n",
      "creating build/bdist.linux-x86_64/egg/rampwf/workflows/tests\n",
      "copying build/lib.linux-x86_64-2.7/rampwf/workflows/tests/__init__.py -> build/bdist.linux-x86_64/egg/rampwf/workflows/tests\n",
      "copying build/lib.linux-x86_64-2.7/rampwf/workflows/ts_feature_extractor.py -> build/bdist.linux-x86_64/egg/rampwf/workflows\n",
      "copying build/lib.linux-x86_64-2.7/rampwf/workflows/simplified_image_classifier.py -> build/bdist.linux-x86_64/egg/rampwf/workflows\n",
      "copying build/lib.linux-x86_64-2.7/rampwf/workflows/clusterer.py -> build/bdist.linux-x86_64/egg/rampwf/workflows\n",
      "copying build/lib.linux-x86_64-2.7/rampwf/workflows/feature_extractor_regressor.py -> build/bdist.linux-x86_64/egg/rampwf/workflows\n",
      "copying build/lib.linux-x86_64-2.7/rampwf/workflows/grid_feature_extractor_classifier.py -> build/bdist.linux-x86_64/egg/rampwf/workflows\n",
      "copying build/lib.linux-x86_64-2.7/rampwf/workflows/object_detector.py -> build/bdist.linux-x86_64/egg/rampwf/workflows\n",
      "copying build/lib.linux-x86_64-2.7/rampwf/workflows/image_classifier.py -> build/bdist.linux-x86_64/egg/rampwf/workflows\n",
      "copying build/lib.linux-x86_64-2.7/rampwf/workflows/el_nino.py -> build/bdist.linux-x86_64/egg/rampwf/workflows\n",
      "copying build/lib.linux-x86_64-2.7/rampwf/workflows/feature_extractor.py -> build/bdist.linux-x86_64/egg/rampwf/workflows\n",
      "copying build/lib.linux-x86_64-2.7/rampwf/workflows/feature_extractor_classifier.py -> build/bdist.linux-x86_64/egg/rampwf/workflows\n",
      "copying build/lib.linux-x86_64-2.7/rampwf/workflows/drug_spectra.py -> build/bdist.linux-x86_64/egg/rampwf/workflows\n",
      "copying build/lib.linux-x86_64-2.7/rampwf/workflows/regressor.py -> build/bdist.linux-x86_64/egg/rampwf/workflows\n",
      "copying build/lib.linux-x86_64-2.7/rampwf/workflows/air_passengers.py -> build/bdist.linux-x86_64/egg/rampwf/workflows\n",
      "copying build/lib.linux-x86_64-2.7/rampwf/__init__.py -> build/bdist.linux-x86_64/egg/rampwf\n",
      "creating build/bdist.linux-x86_64/egg/rampwf/kits\n",
      "copying build/lib.linux-x86_64-2.7/rampwf/kits/base.py -> build/bdist.linux-x86_64/egg/rampwf/kits\n",
      "copying build/lib.linux-x86_64-2.7/rampwf/kits/__init__.py -> build/bdist.linux-x86_64/egg/rampwf/kits\n",
      "creating build/bdist.linux-x86_64/egg/rampwf/kits/tests\n",
      "copying build/lib.linux-x86_64-2.7/rampwf/kits/tests/__init__.py -> build/bdist.linux-x86_64/egg/rampwf/kits/tests\n",
      "copying build/lib.linux-x86_64-2.7/rampwf/kits/ramp_kit.py -> build/bdist.linux-x86_64/egg/rampwf/kits\n",
      "creating build/bdist.linux-x86_64/egg/rampwf/score_types\n",
      "copying build/lib.linux-x86_64-2.7/rampwf/score_types/base.py -> build/bdist.linux-x86_64/egg/rampwf/score_types\n",
      "copying build/lib.linux-x86_64-2.7/rampwf/score_types/macro_averaged_recall.py -> build/bdist.linux-x86_64/egg/rampwf/score_types\n",
      "copying build/lib.linux-x86_64-2.7/rampwf/score_types/__init__.py -> build/bdist.linux-x86_64/egg/rampwf/score_types\n",
      "creating build/bdist.linux-x86_64/egg/rampwf/score_types/tests\n",
      "copying build/lib.linux-x86_64-2.7/rampwf/score_types/tests/__init__.py -> build/bdist.linux-x86_64/egg/rampwf/score_types/tests\n",
      "copying build/lib.linux-x86_64-2.7/rampwf/score_types/tests/test_detection.py -> build/bdist.linux-x86_64/egg/rampwf/score_types/tests\n",
      "copying build/lib.linux-x86_64-2.7/rampwf/score_types/f1_above.py -> build/bdist.linux-x86_64/egg/rampwf/score_types\n",
      "copying build/lib.linux-x86_64-2.7/rampwf/score_types/combined.py -> build/bdist.linux-x86_64/egg/rampwf/score_types\n",
      "copying build/lib.linux-x86_64-2.7/rampwf/score_types/roc_auc.py -> build/bdist.linux-x86_64/egg/rampwf/score_types\n",
      "copying build/lib.linux-x86_64-2.7/rampwf/score_types/brier_score.py -> build/bdist.linux-x86_64/egg/rampwf/score_types\n",
      "copying build/lib.linux-x86_64-2.7/rampwf/score_types/mare.py -> build/bdist.linux-x86_64/egg/rampwf/score_types\n",
      "copying build/lib.linux-x86_64-2.7/rampwf/score_types/rmse.py -> build/bdist.linux-x86_64/egg/rampwf/score_types\n",
      "copying build/lib.linux-x86_64-2.7/rampwf/score_types/classifier_base.py -> build/bdist.linux-x86_64/egg/rampwf/score_types\n",
      "copying build/lib.linux-x86_64-2.7/rampwf/score_types/make_combined.py -> build/bdist.linux-x86_64/egg/rampwf/score_types\n",
      "copying build/lib.linux-x86_64-2.7/rampwf/score_types/relative_rmse.py -> build/bdist.linux-x86_64/egg/rampwf/score_types\n",
      "copying build/lib.linux-x86_64-2.7/rampwf/score_types/classification_error.py -> build/bdist.linux-x86_64/egg/rampwf/score_types\n",
      "creating build/bdist.linux-x86_64/egg/rampwf/score_types/detection\n",
      "copying build/lib.linux-x86_64-2.7/rampwf/score_types/detection/base.py -> build/bdist.linux-x86_64/egg/rampwf/score_types/detection\n",
      "copying build/lib.linux-x86_64-2.7/rampwf/score_types/detection/__init__.py -> build/bdist.linux-x86_64/egg/rampwf/score_types/detection\n",
      "copying build/lib.linux-x86_64-2.7/rampwf/score_types/detection/iou.py -> build/bdist.linux-x86_64/egg/rampwf/score_types/detection\n",
      "copying build/lib.linux-x86_64-2.7/rampwf/score_types/detection/average_precision.py -> build/bdist.linux-x86_64/egg/rampwf/score_types/detection\n",
      "copying build/lib.linux-x86_64-2.7/rampwf/score_types/detection/ospa.py -> build/bdist.linux-x86_64/egg/rampwf/score_types/detection\n",
      "copying build/lib.linux-x86_64-2.7/rampwf/score_types/detection/scp.py -> build/bdist.linux-x86_64/egg/rampwf/score_types/detection\n",
      "copying build/lib.linux-x86_64-2.7/rampwf/score_types/detection/precision_recall.py -> build/bdist.linux-x86_64/egg/rampwf/score_types/detection\n",
      "copying build/lib.linux-x86_64-2.7/rampwf/score_types/detection/util.py -> build/bdist.linux-x86_64/egg/rampwf/score_types/detection\n",
      "copying build/lib.linux-x86_64-2.7/rampwf/score_types/negative_log_likelihood.py -> build/bdist.linux-x86_64/egg/rampwf/score_types\n",
      "copying build/lib.linux-x86_64-2.7/rampwf/score_types/accuracy.py -> build/bdist.linux-x86_64/egg/rampwf/score_types\n",
      "copying build/lib.linux-x86_64-2.7/rampwf/score_types/clustering_efficiency.py -> build/bdist.linux-x86_64/egg/rampwf/score_types\n",
      "copying build/lib.linux-x86_64-2.7/rampwf/score_types/balanced_accuracy.py -> build/bdist.linux-x86_64/egg/rampwf/score_types\n",
      "creating build/bdist.linux-x86_64/egg/rampwf/cvs\n",
      "copying build/lib.linux-x86_64-2.7/rampwf/cvs/__init__.py -> build/bdist.linux-x86_64/egg/rampwf/cvs\n",
      "copying build/lib.linux-x86_64-2.7/rampwf/cvs/clustering.py -> build/bdist.linux-x86_64/egg/rampwf/cvs\n",
      "copying build/lib.linux-x86_64-2.7/rampwf/cvs/time_series.py -> build/bdist.linux-x86_64/egg/rampwf/cvs\n",
      "creating build/bdist.linux-x86_64/egg/rampwf/utils\n",
      "copying build/lib.linux-x86_64-2.7/rampwf/utils/__init__.py -> build/bdist.linux-x86_64/egg/rampwf/utils\n",
      "copying build/lib.linux-x86_64-2.7/rampwf/utils/command_line.py -> build/bdist.linux-x86_64/egg/rampwf/utils\n",
      "copying build/lib.linux-x86_64-2.7/rampwf/utils/testing.py -> build/bdist.linux-x86_64/egg/rampwf/utils\n",
      "creating build/bdist.linux-x86_64/egg/rampwf/prediction_types\n",
      "copying build/lib.linux-x86_64-2.7/rampwf/prediction_types/base.py -> build/bdist.linux-x86_64/egg/rampwf/prediction_types\n",
      "copying build/lib.linux-x86_64-2.7/rampwf/prediction_types/__init__.py -> build/bdist.linux-x86_64/egg/rampwf/prediction_types\n",
      "creating build/bdist.linux-x86_64/egg/rampwf/prediction_types/tests\n",
      "copying build/lib.linux-x86_64-2.7/rampwf/prediction_types/tests/test_mixed_predictions.py -> build/bdist.linux-x86_64/egg/rampwf/prediction_types/tests\n",
      "copying build/lib.linux-x86_64-2.7/rampwf/prediction_types/tests/__init__.py -> build/bdist.linux-x86_64/egg/rampwf/prediction_types/tests\n",
      "copying build/lib.linux-x86_64-2.7/rampwf/prediction_types/tests/test_regression_predictions.py -> build/bdist.linux-x86_64/egg/rampwf/prediction_types/tests\n",
      "copying build/lib.linux-x86_64-2.7/rampwf/prediction_types/tests/test_multiclass_predictions.py -> build/bdist.linux-x86_64/egg/rampwf/prediction_types/tests\n",
      "copying build/lib.linux-x86_64-2.7/rampwf/prediction_types/combined.py -> build/bdist.linux-x86_64/egg/rampwf/prediction_types\n",
      "copying build/lib.linux-x86_64-2.7/rampwf/prediction_types/multiclass.py -> build/bdist.linux-x86_64/egg/rampwf/prediction_types\n",
      "copying build/lib.linux-x86_64-2.7/rampwf/prediction_types/clustering.py -> build/bdist.linux-x86_64/egg/rampwf/prediction_types\n",
      "copying build/lib.linux-x86_64-2.7/rampwf/prediction_types/detection.py -> build/bdist.linux-x86_64/egg/rampwf/prediction_types\n",
      "copying build/lib.linux-x86_64-2.7/rampwf/prediction_types/regression.py -> build/bdist.linux-x86_64/egg/rampwf/prediction_types\n",
      "byte-compiling build/bdist.linux-x86_64/egg/rampwf/workflows/grid_feature_extractor.py to grid_feature_extractor.pyc\n",
      "byte-compiling build/bdist.linux-x86_64/egg/rampwf/workflows/__init__.py to __init__.pyc\n",
      "byte-compiling build/bdist.linux-x86_64/egg/rampwf/workflows/classifier.py to classifier.pyc\n",
      "byte-compiling build/bdist.linux-x86_64/egg/rampwf/workflows/tests/__init__.py to __init__.pyc\n",
      "byte-compiling build/bdist.linux-x86_64/egg/rampwf/workflows/ts_feature_extractor.py to ts_feature_extractor.pyc\n",
      "byte-compiling build/bdist.linux-x86_64/egg/rampwf/workflows/simplified_image_classifier.py to simplified_image_classifier.pyc\n",
      "byte-compiling build/bdist.linux-x86_64/egg/rampwf/workflows/clusterer.py to clusterer.pyc\n",
      "byte-compiling build/bdist.linux-x86_64/egg/rampwf/workflows/feature_extractor_regressor.py to feature_extractor_regressor.pyc\n",
      "byte-compiling build/bdist.linux-x86_64/egg/rampwf/workflows/grid_feature_extractor_classifier.py to grid_feature_extractor_classifier.pyc\n",
      "byte-compiling build/bdist.linux-x86_64/egg/rampwf/workflows/object_detector.py to object_detector.pyc\n",
      "byte-compiling build/bdist.linux-x86_64/egg/rampwf/workflows/image_classifier.py to image_classifier.pyc\n",
      "byte-compiling build/bdist.linux-x86_64/egg/rampwf/workflows/el_nino.py to el_nino.pyc\n",
      "byte-compiling build/bdist.linux-x86_64/egg/rampwf/workflows/feature_extractor.py to feature_extractor.pyc\n",
      "byte-compiling build/bdist.linux-x86_64/egg/rampwf/workflows/feature_extractor_classifier.py to feature_extractor_classifier.pyc\n",
      "byte-compiling build/bdist.linux-x86_64/egg/rampwf/workflows/drug_spectra.py to drug_spectra.pyc\n",
      "byte-compiling build/bdist.linux-x86_64/egg/rampwf/workflows/regressor.py to regressor.pyc\n",
      "byte-compiling build/bdist.linux-x86_64/egg/rampwf/workflows/air_passengers.py to air_passengers.pyc\n",
      "byte-compiling build/bdist.linux-x86_64/egg/rampwf/__init__.py to __init__.pyc\n",
      "byte-compiling build/bdist.linux-x86_64/egg/rampwf/kits/base.py to base.pyc\n",
      "byte-compiling build/bdist.linux-x86_64/egg/rampwf/kits/__init__.py to __init__.pyc\n",
      "byte-compiling build/bdist.linux-x86_64/egg/rampwf/kits/tests/__init__.py to __init__.pyc\n",
      "byte-compiling build/bdist.linux-x86_64/egg/rampwf/kits/ramp_kit.py to ramp_kit.pyc\n",
      "byte-compiling build/bdist.linux-x86_64/egg/rampwf/score_types/base.py to base.pyc\n",
      "byte-compiling build/bdist.linux-x86_64/egg/rampwf/score_types/macro_averaged_recall.py to macro_averaged_recall.pyc\n",
      "byte-compiling build/bdist.linux-x86_64/egg/rampwf/score_types/__init__.py to __init__.pyc\n",
      "byte-compiling build/bdist.linux-x86_64/egg/rampwf/score_types/tests/__init__.py to __init__.pyc\n",
      "byte-compiling build/bdist.linux-x86_64/egg/rampwf/score_types/tests/test_detection.py to test_detection.pyc\n",
      "byte-compiling build/bdist.linux-x86_64/egg/rampwf/score_types/f1_above.py to f1_above.pyc\n",
      "byte-compiling build/bdist.linux-x86_64/egg/rampwf/score_types/combined.py to combined.pyc\n",
      "byte-compiling build/bdist.linux-x86_64/egg/rampwf/score_types/roc_auc.py to roc_auc.pyc\n",
      "byte-compiling build/bdist.linux-x86_64/egg/rampwf/score_types/brier_score.py to brier_score.pyc\n",
      "byte-compiling build/bdist.linux-x86_64/egg/rampwf/score_types/mare.py to mare.pyc\n",
      "byte-compiling build/bdist.linux-x86_64/egg/rampwf/score_types/rmse.py to rmse.pyc\n",
      "byte-compiling build/bdist.linux-x86_64/egg/rampwf/score_types/classifier_base.py to classifier_base.pyc\n",
      "byte-compiling build/bdist.linux-x86_64/egg/rampwf/score_types/make_combined.py to make_combined.pyc\n",
      "byte-compiling build/bdist.linux-x86_64/egg/rampwf/score_types/relative_rmse.py to relative_rmse.pyc\n",
      "byte-compiling build/bdist.linux-x86_64/egg/rampwf/score_types/classification_error.py to classification_error.pyc\n",
      "byte-compiling build/bdist.linux-x86_64/egg/rampwf/score_types/detection/base.py to base.pyc\n",
      "byte-compiling build/bdist.linux-x86_64/egg/rampwf/score_types/detection/__init__.py to __init__.pyc\n",
      "byte-compiling build/bdist.linux-x86_64/egg/rampwf/score_types/detection/iou.py to iou.pyc\n",
      "byte-compiling build/bdist.linux-x86_64/egg/rampwf/score_types/detection/average_precision.py to average_precision.pyc\n",
      "byte-compiling build/bdist.linux-x86_64/egg/rampwf/score_types/detection/ospa.py to ospa.pyc\n",
      "byte-compiling build/bdist.linux-x86_64/egg/rampwf/score_types/detection/scp.py to scp.pyc\n"
     ]
    },
    {
     "name": "stdout",
     "output_type": "stream",
     "text": [
      "byte-compiling build/bdist.linux-x86_64/egg/rampwf/score_types/detection/precision_recall.py to precision_recall.pyc\n",
      "byte-compiling build/bdist.linux-x86_64/egg/rampwf/score_types/detection/util.py to util.pyc\n",
      "byte-compiling build/bdist.linux-x86_64/egg/rampwf/score_types/negative_log_likelihood.py to negative_log_likelihood.pyc\n",
      "byte-compiling build/bdist.linux-x86_64/egg/rampwf/score_types/accuracy.py to accuracy.pyc\n",
      "byte-compiling build/bdist.linux-x86_64/egg/rampwf/score_types/clustering_efficiency.py to clustering_efficiency.pyc\n",
      "byte-compiling build/bdist.linux-x86_64/egg/rampwf/score_types/balanced_accuracy.py to balanced_accuracy.pyc\n",
      "byte-compiling build/bdist.linux-x86_64/egg/rampwf/cvs/__init__.py to __init__.pyc\n",
      "byte-compiling build/bdist.linux-x86_64/egg/rampwf/cvs/clustering.py to clustering.pyc\n",
      "byte-compiling build/bdist.linux-x86_64/egg/rampwf/cvs/time_series.py to time_series.pyc\n",
      "byte-compiling build/bdist.linux-x86_64/egg/rampwf/utils/__init__.py to __init__.pyc\n",
      "byte-compiling build/bdist.linux-x86_64/egg/rampwf/utils/command_line.py to command_line.pyc\n",
      "byte-compiling build/bdist.linux-x86_64/egg/rampwf/utils/testing.py to testing.pyc\n",
      "byte-compiling build/bdist.linux-x86_64/egg/rampwf/prediction_types/base.py to base.pyc\n",
      "byte-compiling build/bdist.linux-x86_64/egg/rampwf/prediction_types/__init__.py to __init__.pyc\n",
      "byte-compiling build/bdist.linux-x86_64/egg/rampwf/prediction_types/tests/test_mixed_predictions.py to test_mixed_predictions.pyc\n",
      "byte-compiling build/bdist.linux-x86_64/egg/rampwf/prediction_types/tests/__init__.py to __init__.pyc\n",
      "byte-compiling build/bdist.linux-x86_64/egg/rampwf/prediction_types/tests/test_regression_predictions.py to test_regression_predictions.pyc\n",
      "byte-compiling build/bdist.linux-x86_64/egg/rampwf/prediction_types/tests/test_multiclass_predictions.py to test_multiclass_predictions.pyc\n",
      "byte-compiling build/bdist.linux-x86_64/egg/rampwf/prediction_types/combined.py to combined.pyc\n",
      "byte-compiling build/bdist.linux-x86_64/egg/rampwf/prediction_types/multiclass.py to multiclass.pyc\n",
      "byte-compiling build/bdist.linux-x86_64/egg/rampwf/prediction_types/clustering.py to clustering.pyc\n",
      "byte-compiling build/bdist.linux-x86_64/egg/rampwf/prediction_types/detection.py to detection.pyc\n",
      "byte-compiling build/bdist.linux-x86_64/egg/rampwf/prediction_types/regression.py to regression.pyc\n",
      "creating build/bdist.linux-x86_64/egg/EGG-INFO\n",
      "copying ramp_workflow.egg-info/PKG-INFO -> build/bdist.linux-x86_64/egg/EGG-INFO\n",
      "copying ramp_workflow.egg-info/SOURCES.txt -> build/bdist.linux-x86_64/egg/EGG-INFO\n",
      "copying ramp_workflow.egg-info/dependency_links.txt -> build/bdist.linux-x86_64/egg/EGG-INFO\n",
      "copying ramp_workflow.egg-info/entry_points.txt -> build/bdist.linux-x86_64/egg/EGG-INFO\n",
      "copying ramp_workflow.egg-info/not-zip-safe -> build/bdist.linux-x86_64/egg/EGG-INFO\n",
      "copying ramp_workflow.egg-info/requires.txt -> build/bdist.linux-x86_64/egg/EGG-INFO\n",
      "copying ramp_workflow.egg-info/top_level.txt -> build/bdist.linux-x86_64/egg/EGG-INFO\n",
      "creating 'dist/ramp_workflow-0.1.dev0-py2.7.egg' and adding 'build/bdist.linux-x86_64/egg' to it\n",
      "removing 'build/bdist.linux-x86_64/egg' (and everything under it)\n",
      "Processing ramp_workflow-0.1.dev0-py2.7.egg\n",
      "removing '/usr/local/lib/python2.7/dist-packages/ramp_workflow-0.1.dev0-py2.7.egg' (and everything under it)\n",
      "creating /usr/local/lib/python2.7/dist-packages/ramp_workflow-0.1.dev0-py2.7.egg\n",
      "Extracting ramp_workflow-0.1.dev0-py2.7.egg to /usr/local/lib/python2.7/dist-packages\n",
      "ramp-workflow 0.1.dev0 is already the active version in easy-install.pth\n",
      "Installing ramp_test_submission script to /usr/local/bin\n",
      "Installing ramp_convert_notebook script to /usr/local/bin\n",
      "Installing ramp_test_notebook script to /usr/local/bin\n",
      "\n",
      "Installed /usr/local/lib/python2.7/dist-packages/ramp_workflow-0.1.dev0-py2.7.egg\n",
      "Processing dependencies for ramp-workflow==0.1.dev0\n",
      "Searching for cloudpickle==0.4.0\n",
      "Best match: cloudpickle 0.4.0\n",
      "Processing cloudpickle-0.4.0-py2.7.egg\n",
      "cloudpickle 0.4.0 is already the active version in easy-install.pth\n",
      "\n",
      "Using /usr/local/lib/python2.7/dist-packages/cloudpickle-0.4.0-py2.7.egg\n",
      "Searching for scikit-learn==0.19.0\n",
      "Best match: scikit-learn 0.19.0\n",
      "Adding scikit-learn 0.19.0 to easy-install.pth file\n",
      "\n",
      "Using /usr/local/lib/python2.7/dist-packages\n",
      "Searching for pandas==0.20.3\n",
      "Best match: pandas 0.20.3\n",
      "Adding pandas 0.20.3 to easy-install.pth file\n",
      "\n",
      "Using /usr/local/lib/python2.7/dist-packages\n",
      "Searching for scipy==1.0.0\n",
      "Best match: scipy 1.0.0\n",
      "Adding scipy 1.0.0 to easy-install.pth file\n",
      "\n",
      "Using /usr/local/lib/python2.7/dist-packages\n",
      "Searching for numpy==1.13.3\n",
      "Best match: numpy 1.13.3\n",
      "Adding numpy 1.13.3 to easy-install.pth file\n",
      "\n",
      "Using /usr/local/lib/python2.7/dist-packages\n",
      "Searching for python-dateutil==2.6.1\n",
      "Best match: python-dateutil 2.6.1\n",
      "Adding python-dateutil 2.6.1 to easy-install.pth file\n",
      "\n",
      "Using /usr/local/lib/python2.7/dist-packages\n",
      "Searching for pytz==2017.2\n",
      "Best match: pytz 2017.2\n",
      "Adding pytz 2017.2 to easy-install.pth file\n",
      "\n",
      "Using /usr/local/lib/python2.7/dist-packages\n",
      "Searching for six==1.11.0\n",
      "Best match: six 1.11.0\n",
      "Adding six 1.11.0 to easy-install.pth file\n",
      "\n",
      "Using /usr/local/lib/python2.7/dist-packages\n",
      "Finished processing dependencies for ramp-workflow==0.1.dev0\n"
     ]
    }
   ],
   "source": [
    "# !cd ../../../ramp-workflow/ && python setup.py install"
   ]
  },
  {
   "cell_type": "code",
   "execution_count": 120,
   "metadata": {},
   "outputs": [
    {
     "name": "stdout",
     "output_type": "stream",
     "text": [
      "HAS_GPU: True\n",
      "Collecting visdom\n",
      "  Downloading visdom-0.1.6.1.tar.gz\n",
      "Requirement already satisfied: numpy in /usr/local/lib/python2.7/dist-packages (from visdom)\n",
      "Requirement already satisfied: pillow in /usr/local/lib/python2.7/dist-packages (from visdom)\n",
      "Requirement already satisfied: requests in /usr/local/lib/python2.7/dist-packages (from visdom)\n",
      "Requirement already satisfied: tornado in /usr/local/lib/python2.7/dist-packages (from visdom)\n",
      "Requirement already satisfied: pyzmq in /usr/local/lib/python2.7/dist-packages (from visdom)\n",
      "Requirement already satisfied: six in /usr/local/lib/python2.7/dist-packages (from visdom)\n",
      "Collecting torchfile (from visdom)\n",
      "  Downloading torchfile-0.1.0.tar.gz\n",
      "Requirement already satisfied: olefile in /usr/local/lib/python2.7/dist-packages (from pillow->visdom)\n",
      "Requirement already satisfied: urllib3<1.23,>=1.21.1 in /usr/local/lib/python2.7/dist-packages (from requests->visdom)\n",
      "Requirement already satisfied: idna<2.7,>=2.5 in /usr/local/lib/python2.7/dist-packages (from requests->visdom)\n",
      "Requirement already satisfied: chardet<3.1.0,>=3.0.2 in /usr/local/lib/python2.7/dist-packages (from requests->visdom)\n",
      "Requirement already satisfied: certifi>=2017.4.17 in /usr/local/lib/python2.7/dist-packages (from requests->visdom)\n",
      "Requirement already satisfied: singledispatch in /usr/local/lib/python2.7/dist-packages (from tornado->visdom)\n",
      "Requirement already satisfied: backports_abc>=0.4 in /usr/local/lib/python2.7/dist-packages (from tornado->visdom)\n",
      "Building wheels for collected packages: visdom, torchfile\n",
      "  Running setup.py bdist_wheel for visdom ... \u001b[?25ldone\n",
      "\u001b[?25h  Stored in directory: /root/.cache/pip/wheels/f5/3d/e1/96d697c44f66af633ce5314851ed42bb7f21afa4b4870f1d2e\n",
      "  Running setup.py bdist_wheel for torchfile ... \u001b[?25ldone\n",
      "\u001b[?25h  Stored in directory: /root/.cache/pip/wheels/27/0a/74/650124cbc320716ff2a6566e711a0c84f871647b33ffc868f6\n",
      "Successfully built visdom torchfile\n",
      "Installing collected packages: torchfile, visdom\n",
      "Successfully installed torchfile-0.1.0 visdom-0.1.6.1\n"
     ]
    }
   ],
   "source": [
    "# !pip install visdom"
   ]
  },
  {
   "cell_type": "code",
   "execution_count": null,
   "metadata": {},
   "outputs": [],
   "source": []
  },
  {
   "cell_type": "code",
   "execution_count": null,
   "metadata": {},
   "outputs": [],
   "source": []
  },
  {
   "cell_type": "code",
   "execution_count": 1,
   "metadata": {},
   "outputs": [],
   "source": [
    "# https://ipython.org/ipython-doc/3/config/extensions/autoreload.html\n",
    "%load_ext autoreload\n",
    "%autoreload 2"
   ]
  },
  {
   "cell_type": "code",
   "execution_count": 2,
   "metadata": {},
   "outputs": [],
   "source": [
    "from __future__ import print_function\n",
    "import os, sys\n",
    "\n",
    "os.environ['CUDA_VISIBLE_DEVICES'] = '0'\n",
    "\n",
    "sys.path.append(\"../submissions\")\n",
    "sys.path.append(\"..\")\n",
    "\n",
    "from rampwf.workflows.simplified_image_classifier import ImageLoader\n",
    "from problem import get_cv, get_train_data, get_test_data"
   ]
  },
  {
   "cell_type": "code",
   "execution_count": 3,
   "metadata": {},
   "outputs": [],
   "source": [
    "folder_X_array, y_array = get_train_data(path=\"..\")\n",
    "cv = list(get_cv(folder_X_array, y_array))\n",
    "\n",
    "for fold_i, (train_is, valid_is) in enumerate(cv):\n",
    "\n",
    "    folder, X_array = folder_X_array\n",
    "    if train_is is None:\n",
    "        train_is = slice(None, None, None)\n",
    "\n",
    "    img_loader = ImageLoader(X_array[train_is], y_array[train_is], folder=folder, n_classes=403)\n",
    "\n",
    "    \n",
    "# img_loader.setup_backend('opencv')"
   ]
  },
  {
   "cell_type": "code",
   "execution_count": 116,
   "metadata": {},
   "outputs": [
    {
     "name": "stdout",
     "output_type": "stream",
     "text": [
      "HAS_GPU: True\n"
     ]
    }
   ],
   "source": [
    "from pytorch_SqueezeNet_finetunning_balanced_299.image_classifier import ImageLoaderProxyDataset, ResizedDataset\n",
    "from torch.utils.data import DataLoader\n",
    "from torch.utils.data.sampler import SubsetRandomSampler"
   ]
  },
  {
   "cell_type": "code",
   "execution_count": 5,
   "metadata": {},
   "outputs": [],
   "source": [
    "train_ds = ImageLoaderProxyDataset(img_loader)\n",
    "train_ds = ResizedDataset(train_ds, output_size=(299, 299))\n",
    "train_batches_ds = DataLoader(train_ds, batch_size=10, num_workers=1)"
   ]
  },
  {
   "cell_type": "code",
   "execution_count": 6,
   "metadata": {
    "scrolled": true
   },
   "outputs": [
    {
     "name": "stdout",
     "output_type": "stream",
     "text": [
      "\n",
      "0 | Labels counts: \n",
      "  current: | '1': 1 | '163': 1 | '4': 1 | '40': 1 | '109': 1 | '179': 1 | '84': 1 | '57': 1 | '159': 2 | \n",
      "    total: \n",
      "'  1':     1 | '163':     1 | '  4':     1 | ' 40':     1 | '109':     1 | '179':     1 | \n",
      "' 84':     1 | ' 57':     1 | '159':     2 | \n",
      "\n",
      "100 | Labels counts: \n",
      "  current: | '160': 1 | '172': 1 | '76': 1 | '49': 1 | '20': 1 | '86': 1 | '300': 1 | '57': 1 | '124': 1 | '159': 1 | \n",
      "    total: \n",
      "'  0':     4 | '  1':     7 | '  3':    14 | '  4':     1 | '  5':     7 | '  7':    16 | \n",
      "'  8':     5 | '  9':     1 | ' 10':     2 | ' 11':     1 | ' 14':     1 | ' 15':     6 | \n",
      "' 16':     4 | ' 18':     3 | ' 19':     1 | ' 20':    10 | ' 21':     2 | ' 22':     4 | \n",
      "' 23':     2 | ' 24':     1 | ' 25':     4 | ' 27':    14 | ' 29':     1 | ' 31':     1 | \n",
      "' 32':     1 | ' 33':     8 | ' 34':     3 | ' 35':    14 | ' 36':     1 | ' 37':     1 | \n",
      "' 38':     2 | ' 39':     6 | ' 40':     2 | ' 41':     1 | ' 42':     8 | ' 44':     2 | \n",
      "' 45':     1 | ' 46':     1 | ' 47':     2 | ' 48':     1 | ' 49':     2 | ' 50':     3 | \n",
      "' 51':     3 | ' 52':     3 | ' 53':     1 | ' 54':     4 | ' 55':     7 | ' 56':     3 | \n",
      "' 57':    51 | ' 58':     4 | ' 59':     1 | ' 61':     7 | ' 62':     2 | ' 63':     2 | \n",
      "' 64':     3 | ' 66':    10 | ' 67':     2 | ' 68':     2 | ' 69':     1 | ' 70':     1 | \n",
      "' 71':     3 | ' 72':     5 | ' 73':     5 | ' 74':     1 | ' 75':     7 | ' 76':     3 | \n",
      "' 77':     8 | ' 78':     6 | ' 79':     6 | ' 80':     3 | ' 81':     2 | ' 82':     6 | \n",
      "' 83':     1 | ' 84':    14 | ' 86':     3 | ' 87':     2 | ' 88':     2 | ' 89':     2 | \n",
      "' 90':     3 | ' 91':     1 | ' 92':     8 | ' 93':     3 | ' 94':    26 | ' 95':     3 | \n",
      "' 97':    18 | ' 98':     4 | ' 99':     2 | '100':     5 | '101':     1 | '102':     3 | \n",
      "'103':     6 | '105':     1 | '106':     1 | '107':     4 | '108':     5 | '109':     1 | \n",
      "'110':     1 | '112':     5 | '114':     1 | '115':     1 | '116':     4 | '117':     3 | \n",
      "'118':     1 | '119':     2 | '120':     3 | '121':    12 | '122':    12 | '123':     2 | \n",
      "'124':     6 | '125':     2 | '126':     2 | '128':     3 | '129':     5 | '130':     3 | \n",
      "'131':    19 | '133':     5 | '134':    26 | '136':     6 | '137':     1 | '139':     2 | \n",
      "'140':     6 | '141':     1 | '142':     2 | '144':     1 | '146':     1 | '147':     2 | \n",
      "'148':    11 | '149':     1 | '150':     6 | '151':     9 | '152':     2 | '153':     1 | \n",
      "'154':     3 | '156':     1 | '157':     5 | '158':     2 | '159':    75 | '160':     6 | \n",
      "'161':     1 | '162':     6 | '163':    10 | '164':     2 | '165':     3 | '166':     2 | \n",
      "'167':     2 | '168':     5 | '169':     2 | '170':    19 | '171':     2 | '172':     3 | \n",
      "'173':     2 | '174':     1 | '175':    19 | '176':     1 | '177':     1 | '178':     1 | \n",
      "'179':    11 | '180':     5 | '181':     5 | '182':     2 | '183':     4 | '185':     1 | \n",
      "'186':     2 | '188':     6 | '189':     1 | '190':     1 | '191':     8 | '193':     2 | \n",
      "'194':     2 | '195':     3 | '196':     2 | '197':     4 | '198':     3 | '200':     6 | \n",
      "'201':     2 | '202':    81 | '205':     1 | '206':     3 | '215':     1 | '218':     1 | \n",
      "'219':     1 | '222':     1 | '228':     2 | '230':     2 | '233':     1 | '237':     1 | \n",
      "'240':     1 | '244':     1 | '258':     1 | '264':     1 | '270':     1 | '279':     2 | \n",
      "'285':     1 | '298':     1 | '300':     1 | '302':     2 | '315':     1 | '316':     2 | \n",
      "'326':     1 | '330':     1 | '331':     2 | '333':     1 | '339':     1 | '340':     1 | \n",
      "'344':     1 | '346':     2 | '347':     1 | '350':     1 | '353':     3 | '357':     1 | \n",
      "'358':     1 | '359':     1 | '362':     1 | '363':     1 | '373':     2 | '376':     1 | \n",
      "'379':     1 | '380':     1 | '381':     1 | '386':     1 | '389':     1 | '390':     1 | \n",
      "'392':     2 | '393':     1 | '397':     2 | \n",
      "\n",
      "200 | Labels counts: \n",
      "  current: | '353': 1 | '164': 1 | '202': 1 | '115': 1 | '20': 1 | '57': 1 | '122': 1 | '91': 1 | '90': 1 | '94': 1 | \n",
      "    total: \n",
      "'  0':    12 | '  1':    11 | '  2':     1 | '  3':    26 | '  4':     1 | '  5':    13 | \n",
      "'  6':     2 | '  7':    22 | '  8':     5 | '  9':     4 | ' 10':     3 | ' 11':     5 | \n",
      "' 13':     2 | ' 14':     4 | ' 15':    21 | ' 16':     6 | ' 17':     1 | ' 18':     9 | \n",
      "' 19':     7 | ' 20':    19 | ' 21':     4 | ' 22':     8 | ' 23':     3 | ' 24':     4 | \n",
      "' 25':     7 | ' 27':    35 | ' 28':     1 | ' 29':     2 | ' 30':     4 | ' 31':     1 | \n",
      "' 32':     4 | ' 33':    16 | ' 34':     5 | ' 35':    23 | ' 36':     2 | ' 37':     2 | \n",
      "' 38':     4 | ' 39':    13 | ' 40':     4 | ' 41':     8 | ' 42':    10 | ' 44':     3 | \n",
      "' 45':     3 | ' 46':     1 | ' 47':     4 | ' 48':     4 | ' 49':     5 | ' 50':     4 | \n",
      "' 51':     7 | ' 52':     6 | ' 53':     4 | ' 54':     8 | ' 55':    17 | ' 56':     3 | \n",
      "' 57':    93 | ' 58':     5 | ' 59':     5 | ' 60':     1 | ' 61':     9 | ' 62':     3 | \n",
      "' 63':     4 | ' 64':     5 | ' 65':     2 | ' 66':    18 | ' 67':     3 | ' 68':     4 | \n",
      "' 69':     3 | ' 70':     6 | ' 71':     4 | ' 72':    14 | ' 73':     9 | ' 74':     1 | \n",
      "' 75':    15 | ' 76':    10 | ' 77':    15 | ' 78':    10 | ' 79':    12 | ' 80':     5 | \n",
      "' 81':     3 | ' 82':    12 | ' 83':     2 | ' 84':    27 | ' 86':     3 | ' 87':     4 | \n",
      "' 88':     3 | ' 89':     5 | ' 90':     9 | ' 91':     2 | ' 92':    12 | ' 93':     4 | \n",
      "' 94':    52 | ' 95':     6 | ' 97':    32 | ' 98':    16 | ' 99':     6 | '100':     8 | \n",
      "'101':     1 | '102':     7 | '103':     9 | '104':     1 | '105':     2 | '106':     1 | \n",
      "'107':     7 | '108':    13 | '109':     2 | '110':     3 | '111':     2 | '112':     8 | \n",
      "'113':     1 | '114':     1 | '115':     2 | '116':     4 | '117':     5 | '118':     3 | \n",
      "'119':     3 | '120':     7 | '121':    27 | '122':    18 | '123':     2 | '124':    12 | \n",
      "'125':     6 | '126':     4 | '127':     2 | '128':     4 | '129':     8 | '130':     9 | \n",
      "'131':    40 | '132':     2 | '133':     9 | '134':    53 | '136':    12 | '137':     2 | \n",
      "'138':     1 | '139':     3 | '140':    10 | '141':     3 | '142':     3 | '144':     1 | \n",
      "'146':     1 | '147':     2 | '148':    20 | '149':     4 | '150':    10 | '151':    18 | \n",
      "'152':     4 | '153':     1 | '154':     4 | '155':     3 | '156':     2 | '157':    10 | \n",
      "'158':     2 | '159':   142 | '160':    10 | '161':     1 | '162':     9 | '163':    26 | \n",
      "'164':     4 | '165':     4 | '166':     3 | '167':     6 | '168':    10 | '169':     3 | \n",
      "'170':    31 | '171':     2 | '172':     8 | '173':     4 | '174':     1 | '175':    37 | \n",
      "'176':     1 | '177':     3 | '178':     2 | '179':    14 | '180':    13 | '181':     6 | \n",
      "'182':     6 | '183':     5 | '184':     2 | '185':     3 | '186':     4 | '188':    19 | \n",
      "'189':     1 | '190':     2 | '191':    10 | '192':     1 | '193':     4 | '194':     2 | \n",
      "'195':     4 | '196':     4 | '197':     5 | '198':     6 | '200':    16 | '201':     4 | \n",
      "'202':   173 | '203':     4 | '205':     1 | '206':     9 | '207':     2 | '211':     1 | \n",
      "'214':     1 | '215':     2 | '217':     1 | '218':     1 | '219':     1 | '221':     1 | \n",
      "'222':     1 | '226':     1 | '227':     1 | '228':     3 | '230':     3 | '231':     1 | \n",
      "'232':     2 | '233':     1 | '236':     2 | '237':     1 | '238':     1 | '240':     1 | \n",
      "'242':     1 | '244':     1 | '254':     1 | '256':     1 | '258':     2 | '260':     1 | \n",
      "'261':     1 | '262':     1 | '264':     1 | '268':     1 | '269':     1 | '270':     1 | \n",
      "'273':     1 | '279':     3 | '280':     1 | '282':     1 | '285':     3 | '296':     1 | \n",
      "'298':     2 | '300':     1 | '301':     1 | '302':     3 | '304':     1 | '310':     2 | \n",
      "'315':     2 | '316':     2 | '320':     1 | '322':     1 | '323':     1 | '326':     2 | \n",
      "'330':     1 | '331':     2 | '333':     1 | '334':     1 | '338':     1 | '339':     3 | \n",
      "'340':     1 | '342':     1 | '344':     1 | '346':     2 | '347':     1 | '348':     1 | \n",
      "'350':     2 | '353':     4 | '357':     1 | '358':     2 | '359':     1 | '361':     1 | \n",
      "'362':     1 | '363':     1 | '364':     1 | '368':     1 | '372':     1 | '373':     3 | \n",
      "'376':     3 | '379':     1 | '380':     1 | '381':     2 | '386':     1 | '389':     2 | \n",
      "'390':     1 | '392':     2 | '393':     2 | '397':     2 | '398':     2 | '400':     1 | \n",
      "'402':     1 | \n"
     ]
    }
   ],
   "source": [
    "from collections import defaultdict, Hashable\n",
    "total_y_stats = defaultdict(int)\n",
    "cnt = 0\n",
    "display_freq = 100\n",
    "display_total = True\n",
    "\n",
    "for i, (batch_x, batch_y) in enumerate(train_batches_ds):\n",
    "    y_stats = defaultdict(int)\n",
    "    for y in batch_y:\n",
    "        if isinstance(y, Hashable):\n",
    "            total_y_stats[y] += 1 \n",
    "            y_stats[y] += 1\n",
    "                    \n",
    "    if (cnt % display_freq) == 0:\n",
    "        print(\"\\n%i | Labels counts: \" % cnt)\n",
    "        print(\"  current: | \", end='')\n",
    "        for k in y_stats:\n",
    "            print(\"'{}': {} |\".format(str(k), y_stats[k]), end=' ')\n",
    "        print('')\n",
    "        if display_total:\n",
    "            print(\"    total: \")\n",
    "            for j, k in enumerate(total_y_stats):\n",
    "                if j > 0 and j % 6 == 0:\n",
    "                    print(\"\")\n",
    "                print(\"'{0: >3}': {1: >5}\".format(k, total_y_stats[k]), end=' | ')\n",
    "            print('')                    \n",
    "    cnt += 1\n",
    "    \n",
    "    if i == 200:\n",
    "        break"
   ]
  },
  {
   "cell_type": "code",
   "execution_count": null,
   "metadata": {},
   "outputs": [],
   "source": []
  },
  {
   "cell_type": "code",
   "execution_count": null,
   "metadata": {},
   "outputs": [],
   "source": []
  },
  {
   "cell_type": "code",
   "execution_count": null,
   "metadata": {},
   "outputs": [],
   "source": []
  },
  {
   "cell_type": "code",
   "execution_count": null,
   "metadata": {},
   "outputs": [],
   "source": []
  },
  {
   "cell_type": "code",
   "execution_count": null,
   "metadata": {},
   "outputs": [],
   "source": []
  },
  {
   "cell_type": "code",
   "execution_count": null,
   "metadata": {},
   "outputs": [],
   "source": []
  },
  {
   "cell_type": "markdown",
   "metadata": {},
   "source": [
    "### Random under+over sampling"
   ]
  },
  {
   "cell_type": "code",
   "execution_count": 6,
   "metadata": {},
   "outputs": [],
   "source": [
    "from imblearn.over_sampling import RandomOverSampler\n",
    "from imblearn.under_sampling import RandomUnderSampler"
   ]
  },
  {
   "cell_type": "code",
   "execution_count": 11,
   "metadata": {},
   "outputs": [],
   "source": [
    "import numpy as np\n",
    "\n",
    "def under_over_sample(targets, undersampling_threshold=350):\n",
    "    # Under+Oversample training data:\n",
    "    # - undersample randomly images that count is larger a threshold\n",
    "    # - oversample randomly all images\n",
    "\n",
    "    class_counts = np.zeros((403, ), dtype=np.int)\n",
    "    for class_index in targets:\n",
    "        class_counts[class_index] += 1\n",
    "\n",
    "    classes_to_undersample = np.where(class_counts > undersampling_threshold)[0]\n",
    "\n",
    "    indices_to_undersample = np.where(np.isin(targets, classes_to_undersample))[0]\n",
    "    indices_to_oversample = np.where(~np.isin(targets, classes_to_undersample))[0]\n",
    "    \n",
    "    rs = RandomUnderSampler()\n",
    "    indices_undersampled, new_targets = rs.fit_sample(indices_to_undersample[:, None],\n",
    "                                                      targets[indices_to_undersample])\n",
    "    indices_undersampled = indices_undersampled.ravel()\n",
    "    rs = RandomOverSampler()\n",
    "    new_indices = np.concatenate((indices_undersampled, indices_to_oversample))\n",
    "    new_targets = np.concatenate((new_targets, targets[indices_to_oversample]))\n",
    "\n",
    "    new_indices, new_targets = rs.fit_sample(new_indices[:, None], new_targets)\n",
    "    new_indices = new_indices.ravel()\n",
    "    return new_indices"
   ]
  },
  {
   "cell_type": "code",
   "execution_count": 7,
   "metadata": {},
   "outputs": [],
   "source": [
    "from sklearn.model_selection import StratifiedShuffleSplit\n",
    "sssplit = StratifiedShuffleSplit(test_size=0.1, random_state=12345)\n",
    "\n",
    "train_indices, val_indices = next(sssplit.split(img_loader.X_array, img_loader.y_array))"
   ]
  },
  {
   "cell_type": "code",
   "execution_count": 8,
   "metadata": {},
   "outputs": [],
   "source": [
    "\n",
    "import matplotlib.pyplot as plt\n",
    "%matplotlib inline"
   ]
  },
  {
   "cell_type": "code",
   "execution_count": 9,
   "metadata": {},
   "outputs": [
    {
     "data": {
      "image/png": "[encoded data removed]",
      "text/plain": [
       "<matplotlib.figure.Figure at 0x7f1c731ffc50>"
      ]
     },
     "metadata": {},
     "output_type": "display_data"
    }
   ],
   "source": [
    "_ = plt.hist(img_loader.y_array[train_indices], bins=403)"
   ]
  },
  {
   "cell_type": "code",
   "execution_count": 19,
   "metadata": {},
   "outputs": [
    {
     "data": {
      "text/plain": [
       "(3510, 214)"
      ]
     },
     "execution_count": 19,
     "metadata": {},
     "output_type": "execute_result"
    }
   ],
   "source": [
    "counts = np.bincount(img_loader.y_array[train_indices])\n",
    "counts[202], counts[0] "
   ]
  },
  {
   "cell_type": "code",
   "execution_count": 83,
   "metadata": {},
   "outputs": [],
   "source": [
    "targets = img_loader.y_array[train_indices].copy()\n",
    "undersampling_threshold = 350\n",
    "\n",
    "class_counts = np.bincount(targets)\n",
    "\n",
    "classes_to_undersample = np.where(class_counts > undersampling_threshold)[0]\n",
    "indices_to_undersample = np.where(np.isin(targets, classes_to_undersample))[0]\n",
    "indices_to_oversample = np.where(~np.isin(targets, classes_to_undersample))[0]\n",
    "\n",
    "rs = RandomUnderSampler('not minority')\n",
    "indices_undersampled, new_targets = rs.fit_sample(indices_to_undersample[:, None], targets[indices_to_undersample])\n",
    "indices_undersampled = indices_undersampled.ravel()# rs = RandomOverSampler()"
   ]
  },
  {
   "cell_type": "code",
   "execution_count": 84,
   "metadata": {},
   "outputs": [
    {
     "data": {
      "text/plain": [
       "(42012,)"
      ]
     },
     "execution_count": 84,
     "metadata": {},
     "output_type": "execute_result"
    }
   ],
   "source": [
    "train_indices.shape"
   ]
  },
  {
   "cell_type": "code",
   "execution_count": 85,
   "metadata": {},
   "outputs": [
    {
     "data": {
      "text/plain": [
       "((21253,), (21253,))"
      ]
     },
     "execution_count": 85,
     "metadata": {},
     "output_type": "execute_result"
    }
   ],
   "source": [
    "indices_to_undersample.shape, targets[indices_to_undersample].shape"
   ]
  },
  {
   "cell_type": "code",
   "execution_count": 86,
   "metadata": {},
   "outputs": [
    {
     "data": {
      "text/plain": [
       "True"
      ]
     },
     "execution_count": 86,
     "metadata": {},
     "output_type": "execute_result"
    }
   ],
   "source": [
    "set(indices_undersampled) & set(indices_to_undersample) == set(indices_undersampled)"
   ]
  },
  {
   "cell_type": "code",
   "execution_count": 87,
   "metadata": {},
   "outputs": [
    {
     "data": {
      "text/plain": [
       "(9720, 9720)"
      ]
     },
     "execution_count": 87,
     "metadata": {},
     "output_type": "execute_result"
    }
   ],
   "source": [
    "len(set(indices_undersampled)), len(indices_undersampled)"
   ]
  },
  {
   "cell_type": "code",
   "execution_count": 100,
   "metadata": {},
   "outputs": [
    {
     "data": {
      "image/png": "[encoded data removed]",
      "text/plain": [
       "<matplotlib.figure.Figure at 0x7f1c0ba79990>"
      ]
     },
     "metadata": {},
     "output_type": "display_data"
    }
   ],
   "source": [
    "_ = plt.hist(new_targets, bins=403)"
   ]
  },
  {
   "cell_type": "code",
   "execution_count": 94,
   "metadata": {},
   "outputs": [
    {
     "data": {
      "image/png": "[encoded data removed]",
      "text/plain": [
       "<matplotlib.figure.Figure at 0x7f1c06535bd0>"
      ]
     },
     "metadata": {},
     "output_type": "display_data"
    }
   ],
   "source": [
    "_ = plt.hist(targets[indices_to_undersample], bins=403)"
   ]
  },
  {
   "cell_type": "code",
   "execution_count": 99,
   "metadata": {},
   "outputs": [
    {
     "data": {
      "text/plain": [
       "True"
      ]
     },
     "execution_count": 99,
     "metadata": {},
     "output_type": "execute_result"
    }
   ],
   "source": [
    "(np.unique(targets[indices_to_undersample]) == np.unique(new_targets)).all()"
   ]
  },
  {
   "cell_type": "code",
   "execution_count": 105,
   "metadata": {},
   "outputs": [],
   "source": [
    "new_indices = np.concatenate((indices_undersampled, indices_to_oversample))\n",
    "new_targets = np.concatenate((new_targets, targets[indices_to_oversample]))"
   ]
  },
  {
   "cell_type": "code",
   "execution_count": 115,
   "metadata": {},
   "outputs": [
    {
     "data": {
      "image/png": "[encoded data removed]",
      "text/plain": [
       "<matplotlib.figure.Figure at 0x7f1c060b9f90>"
      ]
     },
     "metadata": {},
     "output_type": "display_data"
    }
   ],
   "source": [
    "_ = plt.hist(img_loader.y_array[new_train_indices], bins=403)"
   ]
  },
  {
   "cell_type": "code",
   "execution_count": 114,
   "metadata": {},
   "outputs": [],
   "source": []
  },
  {
   "cell_type": "code",
   "execution_count": null,
   "metadata": {},
   "outputs": [],
   "source": []
  },
  {
   "cell_type": "code",
   "execution_count": 109,
   "metadata": {},
   "outputs": [],
   "source": [
    "balanced_indices = under_over_sample(img_loader.y_array[train_indices], undersampling_threshold=350)"
   ]
  },
  {
   "cell_type": "code",
   "execution_count": 110,
   "metadata": {},
   "outputs": [
    {
     "data": {
      "image/png": "[encoded data removed]",
      "text/plain": [
       "<matplotlib.figure.Figure at 0x7f1c0bb96d50>"
      ]
     },
     "metadata": {},
     "output_type": "display_data"
    }
   ],
   "source": [
    "_ = plt.hist(img_loader.y_array[train_indices][balanced_indices], bins=403)"
   ]
  },
  {
   "cell_type": "code",
   "execution_count": 117,
   "metadata": {},
   "outputs": [],
   "source": [
    "new_train_indices = train_indices[balanced_indices]"
   ]
  },
  {
   "cell_type": "code",
   "execution_count": null,
   "metadata": {},
   "outputs": [],
   "source": []
  },
  {
   "cell_type": "code",
   "execution_count": 118,
   "metadata": {},
   "outputs": [],
   "source": [
    "train_sampler = SubsetRandomSampler(new_train_indices)\n",
    "\n",
    "train_ds = ImageLoaderProxyDataset(img_loader)\n",
    "train_ds = ResizedDataset(train_ds, output_size=(299, 299))\n",
    "train_batches_ds = DataLoader(train_ds, batch_size=10, num_workers=1, sampler=train_sampler)"
   ]
  },
  {
   "cell_type": "code",
   "execution_count": 119,
   "metadata": {
    "scrolled": true
   },
   "outputs": [
    {
     "name": "stdout",
     "output_type": "stream",
     "text": [
      "\n",
      "0 | Labels counts: \n",
      "  current: | '19': 1 | '2': 1 | '73': 1 | '202': 1 | '275': 1 | '246': 1 | '119': 1 | '312': 1 | '122': 1 | '255': 1 | \n",
      "    total: \n",
      "' 19':     1 | '  2':     1 | ' 73':     1 | '202':     1 | '275':     1 | '246':     1 | \n",
      "'119':     1 | '312':     1 | '122':     1 | '255':     1 | \n",
      "\n",
      "100 | Labels counts: \n",
      "  current: | '97': 1 | '356': 1 | '229': 1 | '327': 1 | '12': 1 | '77': 1 | '369': 1 | '373': 1 | '150': 1 | '91': 1 | \n",
      "    total: \n",
      "'  2':     3 | '  3':     1 | '  4':     2 | '  5':     2 | '  6':     4 | '  8':     3 | \n",
      "'  9':     5 | ' 10':     1 | ' 11':     3 | ' 12':     4 | ' 13':     4 | ' 14':     3 | \n",
      "' 15':     2 | ' 17':     1 | ' 18':     2 | ' 19':     4 | ' 20':     5 | ' 21':     1 | \n",
      "' 22':     3 | ' 23':     2 | ' 24':     1 | ' 25':     1 | ' 26':     2 | ' 28':     2 | \n",
      "' 29':     1 | ' 30':     3 | ' 31':     1 | ' 33':     2 | ' 34':     1 | ' 35':     2 | \n",
      "' 36':     4 | ' 37':     2 | ' 39':     4 | ' 40':     3 | ' 42':     6 | ' 43':     3 | \n",
      "' 44':     5 | ' 45':     2 | ' 46':     1 | ' 47':     1 | ' 49':     3 | ' 50':     3 | \n",
      "' 51':     2 | ' 52':     3 | ' 55':     4 | ' 56':     1 | ' 57':     3 | ' 58':     4 | \n",
      "' 59':     3 | ' 60':     1 | ' 61':     4 | ' 62':     2 | ' 63':     4 | ' 64':     2 | \n",
      "' 65':     1 | ' 66':     3 | ' 67':     2 | ' 68':     3 | ' 69':     5 | ' 70':     3 | \n",
      "' 71':     1 | ' 72':     4 | ' 73':     3 | ' 74':     3 | ' 76':     1 | ' 77':     2 | \n",
      "' 78':     2 | ' 79':     1 | ' 80':     5 | ' 81':     3 | ' 82':     3 | ' 84':     2 | \n",
      "' 85':     2 | ' 86':     2 | ' 87':     1 | ' 88':     3 | ' 89':     2 | ' 90':     2 | \n",
      "' 91':     2 | ' 92':     1 | ' 93':     2 | ' 94':     4 | ' 95':     3 | ' 96':     5 | \n",
      "' 97':     4 | ' 99':     4 | '100':     5 | '102':     1 | '103':     5 | '104':     4 | \n",
      "'105':     2 | '107':     4 | '108':     1 | '109':     1 | '110':     3 | '111':     2 | \n",
      "'112':     3 | '113':     1 | '114':     4 | '115':     3 | '116':     2 | '117':     6 | \n",
      "'118':     3 | '119':     6 | '120':     2 | '122':     2 | '123':     2 | '124':     4 | \n",
      "'125':     2 | '127':     4 | '128':     4 | '129':     5 | '130':     1 | '131':     1 | \n",
      "'132':     2 | '133':     5 | '134':     3 | '135':     1 | '136':     3 | '137':     3 | \n",
      "'138':     3 | '139':     3 | '140':     2 | '141':     6 | '142':     1 | '143':     2 | \n",
      "'144':     4 | '145':     2 | '146':     1 | '147':     1 | '148':     2 | '149':     3 | \n",
      "'150':     2 | '151':     1 | '152':     4 | '153':     4 | '154':     3 | '155':     1 | \n",
      "'156':     1 | '157':     3 | '158':     3 | '159':     2 | '160':     1 | '161':     5 | \n",
      "'162':     3 | '163':     1 | '165':     6 | '166':     4 | '167':     3 | '168':     3 | \n",
      "'169':     3 | '170':     2 | '171':     1 | '172':     6 | '173':     1 | '174':     2 | \n",
      "'175':     5 | '176':     2 | '177':     1 | '178':     2 | '179':     6 | '180':     1 | \n",
      "'181':     3 | '182':     5 | '183':     2 | '184':     1 | '185':     1 | '186':     3 | \n",
      "'187':     2 | '188':     4 | '189':     2 | '190':     1 | '191':     3 | '192':     2 | \n",
      "'193':     3 | '195':     3 | '196':     3 | '197':     5 | '198':     2 | '199':     1 | \n",
      "'200':     1 | '201':     3 | '202':     1 | '204':     6 | '205':     3 | '206':     1 | \n",
      "'207':     4 | '208':     1 | '209':     1 | '210':     4 | '211':     2 | '212':     2 | \n",
      "'213':     2 | '214':     4 | '215':     4 | '216':     3 | '217':     2 | '218':     3 | \n",
      "'219':     3 | '220':     2 | '221':     2 | '222':     3 | '223':     2 | '224':     4 | \n",
      "'225':     4 | '226':     2 | '228':     2 | '229':     3 | '231':     2 | '232':     3 | \n",
      "'233':     3 | '234':     4 | '236':     4 | '237':     3 | '238':     4 | '239':     1 | \n",
      "'240':     2 | '241':     5 | '242':     3 | '243':     3 | '244':     1 | '245':     5 | \n",
      "'246':     3 | '247':     4 | '248':     2 | '249':     2 | '250':     4 | '251':     3 | \n",
      "'252':     3 | '253':     3 | '254':     3 | '255':     2 | '256':     4 | '257':     6 | \n",
      "'258':     5 | '259':     2 | '260':     3 | '261':     2 | '262':     2 | '263':     2 | \n",
      "'264':     3 | '265':     2 | '266':     3 | '267':     2 | '268':     3 | '269':     1 | \n",
      "'270':     3 | '271':     2 | '272':     2 | '273':     2 | '275':     4 | '276':     1 | \n",
      "'277':     2 | '278':     1 | '279':     4 | '280':     2 | '281':     1 | '282':     5 | \n",
      "'283':     4 | '284':     2 | '285':     1 | '286':     2 | '287':     2 | '288':     3 | \n",
      "'289':     2 | '290':     2 | '291':     3 | '292':     2 | '293':     5 | '294':     3 | \n",
      "'295':     4 | '296':     2 | '297':     3 | '298':     3 | '299':     2 | '300':     3 | \n",
      "'302':     4 | '304':     3 | '305':     1 | '306':     2 | '307':     3 | '308':     3 | \n",
      "'309':     4 | '310':     2 | '311':     3 | '312':     4 | '313':     2 | '314':     1 | \n",
      "'315':     1 | '316':     3 | '318':     7 | '319':     4 | '320':     2 | '321':     1 | \n",
      "'322':     5 | '323':     2 | '324':     4 | '325':     6 | '326':     2 | '327':     2 | \n",
      "'328':     3 | '329':     1 | '330':     3 | '331':     2 | '332':     1 | '333':     1 | \n",
      "'334':     7 | '335':     2 | '337':     3 | '338':     2 | '339':     5 | '340':     4 | \n",
      "'341':     3 | '342':     2 | '343':     7 | '345':     2 | '346':     4 | '347':     4 | \n",
      "'348':     5 | '349':     3 | '351':     2 | '352':     2 | '353':     3 | '354':     3 | \n",
      "'355':     2 | '356':     2 | '357':     1 | '358':     2 | '359':     5 | '360':     1 | \n",
      "'361':     5 | '362':     2 | '363':     3 | '364':     2 | '365':     2 | '366':     1 | \n",
      "'367':     2 | '368':     2 | '369':     3 | '370':     3 | '371':     3 | '372':     2 | \n",
      "'373':     5 | '374':     1 | '375':     2 | '376':     3 | '377':     4 | '378':     1 | \n",
      "'379':     3 | '380':     3 | '381':     2 | '382':     1 | '383':     5 | '384':     3 | \n",
      "'386':     2 | '387':     1 | '388':     1 | '390':     1 | '391':     4 | '392':     6 | \n",
      "'393':     2 | '394':     2 | '395':     3 | '396':     6 | '397':     1 | '398':     1 | \n",
      "'400':     4 | '401':     6 | '402':     3 | \n",
      "\n",
      "200 | Labels counts: \n",
      "  current: | '194': 1 | '391': 1 | '265': 1 | '170': 1 | '18': 1 | '115': 1 | '23': 1 | '186': 1 | '27': 1 | '28': 1 | \n",
      "    total: \n",
      "'  0':     2 | '  1':     4 | '  2':     4 | '  3':     1 | '  4':     6 | '  5':     6 | \n",
      "'  6':     7 | '  8':     6 | '  9':     8 | ' 10':     4 | ' 11':     3 | ' 12':     7 | \n",
      "' 13':     5 | ' 14':     7 | ' 15':     6 | ' 16':     2 | ' 17':     3 | ' 18':     6 | \n",
      "' 19':     7 | ' 20':     5 | ' 21':     3 | ' 22':     3 | ' 23':     3 | ' 24':     5 | \n",
      "' 25':     2 | ' 26':     4 | ' 27':     2 | ' 28':     5 | ' 29':     3 | ' 30':     5 | \n",
      "' 31':     6 | ' 32':     1 | ' 33':     5 | ' 34':     8 | ' 35':     3 | ' 36':     5 | \n",
      "' 37':     2 | ' 38':     3 | ' 39':    10 | ' 40':     5 | ' 41':     5 | ' 42':     9 | \n",
      "' 43':     6 | ' 44':     8 | ' 45':     5 | ' 46':     6 | ' 47':     5 | ' 48':     5 | \n",
      "' 49':    10 | ' 50':     5 | ' 51':     7 | ' 52':     6 | ' 53':     2 | ' 54':     2 | \n",
      "' 55':     8 | ' 56':     4 | ' 57':     6 | ' 58':     7 | ' 59':     8 | ' 60':     2 | \n",
      "' 61':     6 | ' 62':     3 | ' 63':     9 | ' 64':     4 | ' 65':     4 | ' 66':     8 | \n",
      "' 67':     5 | ' 68':     8 | ' 69':     8 | ' 70':     5 | ' 71':     4 | ' 72':     8 | \n",
      "' 73':     8 | ' 74':     6 | ' 75':     1 | ' 76':     3 | ' 77':     5 | ' 78':     5 | \n",
      "' 79':     4 | ' 80':     8 | ' 81':     6 | ' 82':     6 | ' 83':     2 | ' 84':     5 | \n",
      "' 85':     7 | ' 86':     6 | ' 87':     1 | ' 88':     4 | ' 89':     5 | ' 90':     6 | \n",
      "' 91':     6 | ' 92':     1 | ' 93':     4 | ' 94':     5 | ' 95':     6 | ' 96':     7 | \n",
      "' 97':     7 | ' 98':     2 | ' 99':     6 | '100':     8 | '101':     3 | '102':     4 | \n",
      "'103':     8 | '104':     6 | '105':     4 | '106':     1 | '107':     7 | '108':     3 | \n",
      "'109':     2 | '110':     7 | '111':     5 | '112':     7 | '113':     3 | '114':     6 | \n",
      "'115':     6 | '116':     6 | '117':     8 | '118':     7 | '119':    10 | '120':     2 | \n",
      "'121':     2 | '122':     7 | '123':     3 | '124':     7 | '125':     5 | '126':     1 | \n",
      "'127':     7 | '128':     7 | '129':     7 | '130':     1 | '131':     3 | '132':     4 | \n",
      "'133':     8 | '134':     5 | '135':     1 | '136':     4 | '137':     5 | '138':     6 | \n",
      "'139':     5 | '140':     2 | '141':    11 | '142':     3 | '143':     3 | '144':     7 | \n",
      "'145':     8 | '146':     2 | '147':     5 | '148':     5 | '149':     7 | '150':     5 | \n",
      "'151':     1 | '152':     9 | '153':     7 | '154':     5 | '155':     3 | '156':     3 | \n",
      "'157':     6 | '158':     4 | '159':     2 | '160':     7 | '161':     6 | '162':     5 | \n",
      "'163':     2 | '164':     2 | '165':     9 | '166':     6 | '167':     7 | '168':     3 | \n",
      "'169':     7 | '170':     8 | '171':     3 | '172':     6 | '173':     8 | '174':     5 | \n",
      "'175':     6 | '176':     4 | '177':     2 | '178':     6 | '179':     7 | '180':     3 | \n",
      "'181':     5 | '182':     7 | '183':     3 | '184':     6 | '185':     2 | '186':     5 | \n",
      "'187':     4 | '188':     7 | '189':     5 | '190':     6 | '191':     5 | '192':     6 | \n",
      "'193':     4 | '194':     4 | '195':     5 | '196':     8 | '197':     7 | '198':     3 | \n",
      "'199':     3 | '200':     1 | '201':     6 | '202':     2 | '203':     4 | '204':     8 | \n",
      "'205':     4 | '206':     2 | '207':     5 | '208':     5 | '209':     3 | '210':     5 | \n",
      "'211':     2 | '212':     4 | '213':     4 | '214':     8 | '215':     6 | '216':     7 | \n",
      "'217':     4 | '218':     4 | '219':     5 | '220':     3 | '221':     5 | '222':     6 | \n",
      "'223':     5 | '224':     7 | '225':     7 | '226':     6 | '227':     3 | '228':     6 | \n",
      "'229':     4 | '230':     2 | '231':     5 | '232':     5 | '233':     5 | '234':     4 | \n",
      "'235':     2 | '236':     6 | '237':     5 | '238':     5 | '239':     6 | '240':     4 | \n",
      "'241':     7 | '242':     4 | '243':     5 | '244':     3 | '245':     8 | '246':     4 | \n",
      "'247':     8 | '248':     6 | '249':     2 | '250':     7 | '251':     5 | '252':     4 | \n",
      "'253':     4 | '254':     4 | '255':     7 | '256':     8 | '257':     7 | '258':     8 | \n",
      "'259':     2 | '260':     4 | '261':     4 | '262':     5 | '263':     5 | '264':     3 | \n",
      "'265':     4 | '266':     4 | '267':     7 | '268':     8 | '269':     2 | '270':     8 | \n",
      "'271':     4 | '272':     5 | '273':     4 | '274':     3 | '275':     9 | '276':     3 | \n",
      "'277':     4 | '278':     4 | '279':     7 | '280':     2 | '281':     6 | '282':     8 | \n",
      "'283':     4 | '284':     5 | '285':     4 | '286':     3 | '287':     3 | '288':     4 | \n",
      "'289':     4 | '290':     5 | '291':     6 | '292':     4 | '293':     7 | '294':    10 | \n",
      "'295':     6 | '296':     2 | '297':     6 | '298':     3 | '299':     2 | '300':     5 | \n",
      "'302':     7 | '303':     4 | '304':     5 | '305':     2 | '306':     3 | '307':     5 | \n",
      "'308':     4 | '309':     5 | '310':     7 | '311':     6 | '312':     6 | '313':     6 | \n",
      "'314':     4 | '315':     3 | '316':     9 | '317':     1 | '318':     7 | '319':     4 | \n",
      "'320':     3 | '321':     3 | '322':     6 | '323':     3 | '324':     6 | '325':     6 | \n",
      "'326':     5 | '327':     4 | '328':     9 | '329':     1 | '330':     6 | '331':     6 | \n",
      "'332':     2 | '333':     6 | '334':    10 | '335':     4 | '336':     3 | '337':     7 | \n",
      "'338':     6 | '339':    10 | '340':     8 | '341':     5 | '342':     3 | '343':    10 | \n",
      "'344':     4 | '345':     5 | '346':     5 | '347':     9 | '348':    10 | '349':     7 | \n",
      "'350':     1 | '351':     5 | '352':     2 | '353':     3 | '354':     6 | '355':     5 | \n",
      "'356':     3 | '357':     4 | '358':     4 | '359':     5 | '360':     3 | '361':     8 | \n",
      "'362':     3 | '363':     7 | '364':     3 | '365':     3 | '366':     4 | '367':     6 | \n",
      "'368':     4 | '369':     4 | '370':     4 | '371':     7 | '372':     4 | '373':     6 | \n",
      "'374':     3 | '375':     4 | '376':     6 | '377':     6 | '378':     3 | '379':     6 | \n",
      "'380':     7 | '381':     4 | '382':     4 | '383':     9 | '384':     8 | '385':     4 | \n",
      "'386':     3 | '387':     3 | '388':     5 | '389':     2 | '390':     5 | '391':    10 | \n",
      "'392':     8 | '393':     3 | '394':     3 | '395':     7 | '396':    10 | '397':     3 | \n",
      "'398':     3 | '399':     2 | '400':     5 | '401':     8 | '402':     5 | \n"
     ]
    }
   ],
   "source": [
    "from collections import defaultdict, Hashable\n",
    "total_y_stats = defaultdict(int)\n",
    "cnt = 0\n",
    "display_freq = 100\n",
    "display_total = True\n",
    "\n",
    "for i, (batch_x, batch_y) in enumerate(train_batches_ds):\n",
    "    y_stats = defaultdict(int)\n",
    "    for y in batch_y:\n",
    "        if isinstance(y, Hashable):\n",
    "            total_y_stats[y] += 1 \n",
    "            y_stats[y] += 1\n",
    "                    \n",
    "    if (cnt % display_freq) == 0:\n",
    "        print(\"\\n%i | Labels counts: \" % cnt)\n",
    "        print(\"  current: | \", end='')\n",
    "        for k in y_stats:\n",
    "            print(\"'{}': {} |\".format(str(k), y_stats[k]), end=' ')\n",
    "        print('')\n",
    "        if display_total:\n",
    "            print(\"    total: \")\n",
    "            for j, k in enumerate(total_y_stats):\n",
    "                if j > 0 and j % 6 == 0:\n",
    "                    print(\"\")\n",
    "                print(\"'{0: >3}': {1: >5}\".format(k, total_y_stats[k]), end=' | ')\n",
    "            print('')                    \n",
    "    cnt += 1\n",
    "    \n",
    "    if i == 200:\n",
    "        break"
   ]
  },
  {
   "cell_type": "code",
   "execution_count": null,
   "metadata": {},
   "outputs": [],
   "source": []
  },
  {
   "cell_type": "code",
   "execution_count": null,
   "metadata": {},
   "outputs": [],
   "source": []
  },
  {
   "cell_type": "code",
   "execution_count": null,
   "metadata": {},
   "outputs": [],
   "source": []
  },
  {
   "cell_type": "code",
   "execution_count": null,
   "metadata": {},
   "outputs": [],
   "source": []
  },
  {
   "cell_type": "code",
   "execution_count": null,
   "metadata": {},
   "outputs": [],
   "source": []
  },
  {
   "cell_type": "markdown",
   "metadata": {},
   "source": [
    "Another method "
   ]
  },
  {
   "cell_type": "code",
   "execution_count": 10,
   "metadata": {},
   "outputs": [],
   "source": [
    "sample_weights = np.zeros_like(img_loader.y_array, dtype=np.float)\n",
    "for i in range(403):\n",
    "    sample_weights[img_loader.y_array == i] = class_weights[i]"
   ]
  },
  {
   "cell_type": "code",
   "execution_count": 11,
   "metadata": {},
   "outputs": [],
   "source": [
    "from torch.utils.data.sampler import WeightedRandomSampler"
   ]
  },
  {
   "cell_type": "code",
   "execution_count": 12,
   "metadata": {},
   "outputs": [],
   "source": [
    "sampler = WeightedRandomSampler(sample_weights, num_samples=len(img_loader))"
   ]
  },
  {
   "cell_type": "code",
   "execution_count": 13,
   "metadata": {},
   "outputs": [],
   "source": [
    "train_ds = ImageLoaderProxyDataset(img_loader)\n",
    "train_ds = ResizedDataset(train_ds, output_size=(299, 299))\n",
    "train_batches_ds = DataLoader(train_ds, batch_size=10, num_workers=1, sampler=sampler)"
   ]
  },
  {
   "cell_type": "code",
   "execution_count": 14,
   "metadata": {
    "scrolled": false
   },
   "outputs": [
    {
     "name": "stdout",
     "output_type": "stream",
     "text": [
      "\n",
      "0 | Labels counts: \n",
      "  current: | '323': 1 | '373': 1 | '107': 1 | '77': 1 | '272': 1 | '81': 1 | '171': 1 | '182': 1 | '119': 1 | '351': 1 | \n",
      "    total: \n",
      "'323':     1 | '373':     1 | '107':     1 | ' 77':     1 | '272':     1 | ' 81':     1 | \n",
      "'171':     1 | '182':     1 | '119':     1 | '351':     1 | \n"
     ]
    }
   ],
   "source": [
    "from collections import defaultdict, Hashable\n",
    "total_y_stats = defaultdict(int)\n",
    "cnt = 0\n",
    "display_freq = 5000\n",
    "display_total = True\n",
    "\n",
    "for i, (batch_x, batch_y) in enumerate(train_batches_ds):\n",
    "    y_stats = defaultdict(int)\n",
    "    for y in batch_y:\n",
    "        if isinstance(y, Hashable):\n",
    "            total_y_stats[y] += 1 \n",
    "            y_stats[y] += 1\n",
    "                    \n",
    "    if (cnt % display_freq) == 0:\n",
    "        print(\"\\n%i | Labels counts: \" % cnt)\n",
    "        print(\"  current: | \", end='')\n",
    "        for k in y_stats:\n",
    "            print(\"'{}': {} |\".format(str(k), y_stats[k]), end=' ')\n",
    "        print('')\n",
    "        if display_total:\n",
    "            print(\"    total: \")\n",
    "            for j, k in enumerate(total_y_stats):\n",
    "                if j > 0 and j % 6 == 0:\n",
    "                    print(\"\")\n",
    "                print(\"'{0: >3}': {1: >5}\".format(k, total_y_stats[k]), end=' | ')\n",
    "            print('')                    \n",
    "    cnt += 1\n",
    "    \n",
    "#     if i == 500:\n",
    "#         break"
   ]
  },
  {
   "cell_type": "code",
   "execution_count": 16,
   "metadata": {
    "collapsed": true
   },
   "outputs": [
    {
     "name": "stdout",
     "output_type": "stream",
     "text": [
      "    total: \n",
      "'  0':   143 | '  1':   112 | '  2':   122 | '  3':   110 | '  4':   131 | '  5':   133 | \n",
      "'  6':   101 | '  7':   111 | '  8':   104 | '  9':   102 | ' 10':   129 | ' 11':   124 | \n",
      "' 12':    97 | ' 13':   112 | ' 14':   116 | ' 15':   129 | ' 16':   122 | ' 17':   126 | \n",
      "' 18':   111 | ' 19':   128 | ' 20':   105 | ' 21':   116 | ' 22':    96 | ' 23':    88 | \n",
      "' 24':   122 | ' 25':   102 | ' 26':   119 | ' 27':   115 | ' 28':   116 | ' 29':   103 | \n",
      "' 30':   109 | ' 31':   124 | ' 32':   114 | ' 33':   122 | ' 34':   117 | ' 35':   108 | \n",
      "' 36':   123 | ' 37':   104 | ' 38':   125 | ' 39':    98 | ' 40':   106 | ' 41':   100 | \n",
      "' 42':   120 | ' 43':   106 | ' 44':   124 | ' 45':   104 | ' 46':   116 | ' 47':   110 | \n",
      "' 48':   122 | ' 49':   119 | ' 50':   117 | ' 51':   113 | ' 52':   117 | ' 53':   128 | \n",
      "' 54':   125 | ' 55':   133 | ' 56':   126 | ' 57':   114 | ' 58':   104 | ' 59':   100 | \n",
      "' 60':   128 | ' 61':    97 | ' 62':   109 | ' 63':   109 | ' 64':   113 | ' 65':   102 | \n",
      "' 66':   109 | ' 67':   113 | ' 68':   109 | ' 69':   113 | ' 70':   119 | ' 71':   118 | \n",
      "' 72':   121 | ' 73':   110 | ' 74':   110 | ' 75':   103 | ' 76':   131 | ' 77':   113 | \n",
      "' 78':   104 | ' 79':   124 | ' 80':   115 | ' 81':   127 | ' 82':   118 | ' 83':   121 | \n",
      "' 84':   137 | ' 85':   108 | ' 86':   116 | ' 87':   109 | ' 88':   104 | ' 89':   124 | \n",
      "' 90':   113 | ' 91':   127 | ' 92':   115 | ' 93':   118 | ' 94':   112 | ' 95':   118 | \n",
      "' 96':   136 | ' 97':   108 | ' 98':   115 | ' 99':   121 | '100':   111 | '101':   105 | \n",
      "'102':   131 | '103':   123 | '104':   113 | '105':   134 | '106':   101 | '107':   112 | \n",
      "'108':   127 | '109':   112 | '110':   119 | '111':   110 | '112':   137 | '113':   139 | \n",
      "'114':   101 | '115':   117 | '116':   112 | '117':    96 | '118':   107 | '119':   128 | \n",
      "'120':   108 | '121':   108 | '122':   104 | '123':   122 | '124':   124 | '125':   111 | \n",
      "'126':    97 | '127':   118 | '128':   120 | '129':   109 | '130':   126 | '131':   109 | \n",
      "'132':   113 | '133':   109 | '134':   112 | '135':   109 | '136':   114 | '137':   119 | \n",
      "'138':   133 | '139':   117 | '140':   116 | '141':   102 | '142':   123 | '143':   100 | \n",
      "'144':   124 | '145':   134 | '146':   137 | '147':   116 | '148':   102 | '149':   121 | \n",
      "'150':   105 | '151':   127 | '152':   124 | '153':   107 | '154':   110 | '155':   115 | \n",
      "'156':   123 | '157':   133 | '158':   117 | '159':   125 | '160':   113 | '161':   120 | \n",
      "'162':   125 | '163':   131 | '164':   121 | '165':   107 | '166':   129 | '167':   104 | \n",
      "'168':   114 | '169':   118 | '170':   103 | '171':   142 | '172':    98 | '173':   132 | \n",
      "'174':   125 | '175':   132 | '176':   107 | '177':   116 | '178':   114 | '179':   118 | \n",
      "'180':   111 | '181':   107 | '182':   108 | '183':   117 | '184':   129 | '185':   113 | \n",
      "'186':   115 | '187':   109 | '188':   106 | '189':   115 | '190':   138 | '191':   138 | \n",
      "'192':   116 | '193':   126 | '194':   129 | '195':   120 | '196':   116 | '197':    97 | \n",
      "'198':   109 | '199':   120 | '200':   120 | '201':   102 | '202':   115 | '203':   103 | \n",
      "'204':   137 | '205':   107 | '206':   118 | '207':   100 | '208':   118 | '209':   114 | \n",
      "'210':   103 | '211':   142 | '212':   111 | '213':   109 | '214':   123 | '215':   133 | \n",
      "'216':   104 | '217':   106 | '218':   131 | '219':   126 | '220':   117 | '221':   117 | \n",
      "'222':   119 | '223':   117 | '224':   102 | '225':   113 | '226':    99 | '227':   123 | \n",
      "'228':   122 | '229':   110 | '230':   121 | '231':   112 | '232':   139 | '233':   104 | \n",
      "'234':   107 | '235':   123 | '236':   110 | '237':   114 | '238':    93 | '239':   121 | \n",
      "'240':   109 | '241':    95 | '242':   130 | '243':   107 | '244':   122 | '245':   109 | \n",
      "'246':   121 | '247':   105 | '248':   119 | '249':    97 | '250':   125 | '251':   101 | \n",
      "'252':   123 | '253':   108 | '254':   144 | '255':   115 | '256':   117 | '257':   115 | \n",
      "'258':   103 | '259':   134 | '260':   121 | '261':   125 | '262':   123 | '263':   111 | \n",
      "'264':   111 | '265':   108 | '266':   126 | '267':   132 | '268':   106 | '269':    94 | \n",
      "'270':   113 | '271':   125 | '272':   113 | '273':   125 | '274':   124 | '275':    94 | \n",
      "'276':   121 | '277':   126 | '278':   112 | '279':   117 | '280':   104 | '281':   116 | \n",
      "'282':   104 | '283':   108 | '284':   119 | '285':   115 | '286':   118 | '287':   111 | \n",
      "'288':   109 | '289':   104 | '290':   106 | '291':   108 | '292':   127 | '293':   108 | \n",
      "'294':   126 | '295':   125 | '296':   116 | '297':   119 | '298':   116 | '299':   138 | \n",
      "'300':   114 | '301':   108 | '302':   136 | '303':   125 | '304':   131 | '305':   121 | \n",
      "'306':   116 | '307':   119 | '308':   113 | '309':   109 | '310':   118 | '311':   118 | \n",
      "'312':   101 | '313':   111 | '314':   123 | '315':   126 | '316':   130 | '317':   111 | \n",
      "'318':   116 | '319':   147 | '320':   116 | '321':   123 | '322':   111 | '323':   115 | \n",
      "'324':   103 | '325':   109 | '326':   122 | '327':   109 | '328':   115 | '329':   123 | \n",
      "'330':    94 | '331':   118 | '332':   122 | '333':   115 | '334':   126 | '335':    85 | \n",
      "'336':   113 | '337':   117 | '338':   120 | '339':   104 | '340':    98 | '341':   116 | \n",
      "'342':   113 | '343':   115 | '344':   109 | '345':   129 | '346':   123 | '347':   108 | \n",
      "'348':   103 | '349':   126 | '350':   127 | '351':   146 | '352':   131 | '353':   115 | \n",
      "'354':   121 | '355':   110 | '356':   105 | '357':   119 | '358':   121 | '359':   137 | \n",
      "'360':   105 | '361':   109 | '362':   115 | '363':   109 | '364':   118 | '365':   101 | \n",
      "'366':   143 | '367':   106 | '368':   127 | '369':   141 | '370':   110 | '371':   106 | \n",
      "'372':   104 | '373':   127 | '374':   114 | '375':   108 | '376':   113 | '377':   127 | \n",
      "'378':   122 | '379':   110 | '380':   116 | '381':   126 | '382':   122 | '383':   122 | \n",
      "'384':   120 | '385':   113 | '386':   120 | '387':   105 | '388':    99 | '389':   108 | \n",
      "'390':   117 | '391':   117 | '392':   100 | '393':   109 | '394':    95 | '395':   124 | \n",
      "'396':   137 | '397':   107 | '398':   119 | '399':   113 | '400':   118 | '401':    99 | \n",
      "'402':   110 | \n"
     ]
    }
   ],
   "source": [
    "print(\"    total: \")\n",
    "for j, k in enumerate(total_y_stats):\n",
    "    if j > 0 and j % 6 == 0:\n",
    "        print(\"\")\n",
    "    print(\"'{0: >3}': {1: >5}\".format(k, total_y_stats[k]), end=' | ')\n",
    "print('')                    \n"
   ]
  },
  {
   "cell_type": "code",
   "execution_count": null,
   "metadata": {},
   "outputs": [],
   "source": []
  },
  {
   "cell_type": "code",
   "execution_count": 15,
   "metadata": {},
   "outputs": [
    {
     "data": {
      "text/plain": [
       "set()"
      ]
     },
     "execution_count": 15,
     "metadata": {},
     "output_type": "execute_result"
    }
   ],
   "source": [
    "set(range(403)) - set(total_y_stats.keys()) "
   ]
  },
  {
   "cell_type": "code",
   "execution_count": 109,
   "metadata": {},
   "outputs": [
    {
     "data": {
      "text/plain": [
       "array([259, 335, 251, 223, 299, 295, 334, 387, 253, 286, 351, 345, 296,\n",
       "       248, 356, 222, 317, 349, 254, 319, 366, 246, 328, 241, 374, 338,\n",
       "       220, 395, 283, 265, 284, 267, 377, 327, 396, 237, 318, 393, 375,\n",
       "       341, 218, 307, 346, 305, 271, 303, 385, 273, 383, 369, 224, 332,\n",
       "       263, 221, 209, 245, 355, 250, 291, 367, 219, 281, 321, 320, 282,\n",
       "       257, 278, 262, 402, 212, 386, 378, 360, 333, 322, 363, 311, 274,\n",
       "       325, 343, 340, 210, 384, 234, 372, 258, 401, 279, 269, 287, 247,\n",
       "       229, 371, 364, 342, 252, 344, 290, 266, 382, 329, 394, 352, 242,\n",
       "       337, 312, 233, 275, 272, 399, 339, 264, 390, 354, 227, 359, 235,\n",
       "       362, 294, 277, 368, 268, 256, 216, 331, 239, 306, 217, 238, 260,\n",
       "       276, 300, 336, 379, 381, 388, 315, 304, 353, 280, 289, 226, 323,\n",
       "       215, 228, 380, 288, 376, 314, 389, 214, 293, 392, 347, 309, 397,\n",
       "       297, 255, 348, 236, 370, 270, 298, 225, 213, 301, 261, 310, 400,\n",
       "       292, 350, 316, 240, 308, 330, 398, 357, 365, 243, 326, 231, 249,\n",
       "       232, 373, 361, 285, 313, 145, 211, 244, 391, 324, 358, 101, 302,\n",
       "       230,   6, 109, 137, 190,  85,  21,   2,  93,  13, 199, 135,  29,\n",
       "        36,  28,  32, 204,  96,  86, 143,  60, 113, 176, 156, 174,  83,\n",
       "       138,  23, 111, 110,  91, 115,  46,  31, 105, 118, 116,   4, 141,\n",
       "       194,  12,  47, 169, 125,  43, 203,  17,  45, 123, 178, 153,  30,\n",
       "       104, 184, 114, 189, 142,  16,  81,  68, 144,  56, 187, 127, 146,\n",
       "       132, 208, 106, 161,  80, 205,  95, 192, 164,  37,  63,  71, 117,\n",
       "       166, 149,  65, 158,  59,  53, 152,  64, 171, 207, 195, 201, 177,\n",
       "         9,  40, 165,  87, 181,  11,  10, 126, 186, 196, 147,  19, 139,\n",
       "        24,  88,  34,  70, 119, 154, 183,  67,  44, 128,  69,  62, 173,\n",
       "        61, 198,  89,  26,  51,  90,  78,  41,  22,  48,  58,  38,  99,\n",
       "       155, 157,  74,  49, 162, 193,  52, 133, 103,  73, 172,  50, 120,\n",
       "       130, 191, 206,  42, 129,  18,  82, 100, 182,   8, 185,  76, 107,\n",
       "        14, 102, 197,  54, 122,   0, 168,  33,   1,  25,  77, 136, 124,\n",
       "        92,  98, 140, 167,  79,  66, 151, 160, 150,   5, 112,   7, 108,\n",
       "        55,  39, 188,  72, 179,  20, 200, 148, 163, 180,  35, 175,   3,\n",
       "       121,  75,  84,  15, 170,  97,  27, 131,  94, 134,  57, 159, 202])"
      ]
     },
     "execution_count": 109,
     "metadata": {},
     "output_type": "execute_result"
    }
   ],
   "source": [
    "np.argsort(class_weights)[::-1]"
   ]
  },
  {
   "cell_type": "code",
   "execution_count": 108,
   "metadata": {},
   "outputs": [
    {
     "data": {
      "text/plain": [
       "(1097.9332589167968, 10749.618465543474)"
      ]
     },
     "execution_count": 108,
     "metadata": {},
     "output_type": "execute_result"
    }
   ],
   "source": [
    "class_weights[139], class_weights[258]"
   ]
  },
  {
   "cell_type": "code",
   "execution_count": 9,
   "metadata": {},
   "outputs": [],
   "source": [
    "class ExampleDataset:\n",
    "    \n",
    "    def __init__(self, data_points):\n",
    "        self.num_samples = len(data_points)\n",
    "        self.data_points = data_points\n",
    "        \n",
    "    def __len__(self):\n",
    "        return self.num_samples\n",
    "    \n",
    "    def __getitem__(self, index):\n",
    "        return self.data_points[index]"
   ]
  },
  {
   "cell_type": "code",
   "execution_count": 10,
   "metadata": {},
   "outputs": [],
   "source": [
    "dpoints = np.array([\n",
    "    0, 0, 0, 0, 0, 0, 0, 0, 0, 0, 0, 0, 0, 0, 0, 0, 0, 0, 0, 0, 0, 0, 0, 0, 0, 0, 0, 0, 0, 0, 0, 0, 0, 0, 0, 0, 0, 0, 0, 0, 0, 0,\n",
    "    1, 1, 1, 1, 1, 1, 1, 1, 1, 1, 1, 1, 1, 1, 1,\n",
    "    2, 2, 2, 2, 2, \n",
    "    3, 3, 3, \n",
    "    4, 4,\n",
    "])\n",
    "\n",
    "np.random.shuffle(dpoints)"
   ]
  },
  {
   "cell_type": "code",
   "execution_count": 68,
   "metadata": {},
   "outputs": [
    {
     "data": {
      "text/plain": [
       "array([42, 15,  5,  3,  2])"
      ]
     },
     "execution_count": 68,
     "metadata": {},
     "output_type": "execute_result"
    }
   ],
   "source": [
    "counts = np.bincount(dpoints)\n",
    "counts"
   ]
  },
  {
   "cell_type": "code",
   "execution_count": 85,
   "metadata": {},
   "outputs": [],
   "source": [
    "class_weights = 1.0 / np.log10(counts * 1.0 / np.sum(counts) + 1.0)"
   ]
  },
  {
   "cell_type": "code",
   "execution_count": 86,
   "metadata": {},
   "outputs": [
    {
     "data": {
      "text/plain": [
       "array([  4.7314501 ,  11.39743368,  31.99212356,  52.56728829,  78.28224925])"
      ]
     },
     "execution_count": 86,
     "metadata": {},
     "output_type": "execute_result"
    }
   ],
   "source": [
    "class_weights"
   ]
  },
  {
   "cell_type": "code",
   "execution_count": 87,
   "metadata": {},
   "outputs": [],
   "source": [
    "sample_weights = np.zeros_like(dpoints, dtype=np.float)\n",
    "for i in range(5):\n",
    "    sample_weights[dpoints == i] = class_weights[i]"
   ]
  },
  {
   "cell_type": "code",
   "execution_count": 88,
   "metadata": {},
   "outputs": [],
   "source": [
    "sampler = WeightedRandomSampler(sample_weights, num_samples=len(dpoints))"
   ]
  },
  {
   "cell_type": "code",
   "execution_count": 89,
   "metadata": {},
   "outputs": [],
   "source": [
    "example_ds = ExampleDataset(dpoints)\n",
    "train_batches_ds = DataLoader(example_ds, batch_size=10, num_workers=1, sampler=sampler)"
   ]
  },
  {
   "cell_type": "code",
   "execution_count": 91,
   "metadata": {
    "collapsed": true
   },
   "outputs": [
    {
     "data": {
      "text/plain": [
       "[63,\n",
       " 50,\n",
       " 33,\n",
       " 7,\n",
       " 24,\n",
       " 12,\n",
       " 60,\n",
       " 66,\n",
       " 66,\n",
       " 51,\n",
       " 60,\n",
       " 51,\n",
       " 62,\n",
       " 24,\n",
       " 63,\n",
       " 28,\n",
       " 63,\n",
       " 63,\n",
       " 6,\n",
       " 66,\n",
       " 12,\n",
       " 7,\n",
       " 63,\n",
       " 19,\n",
       " 25,\n",
       " 3,\n",
       " 24,\n",
       " 63,\n",
       " 43,\n",
       " 50,\n",
       " 66,\n",
       " 43,\n",
       " 63,\n",
       " 7,\n",
       " 40,\n",
       " 26,\n",
       " 66,\n",
       " 66,\n",
       " 55,\n",
       " 25,\n",
       " 2,\n",
       " 39,\n",
       " 36,\n",
       " 24,\n",
       " 16,\n",
       " 7,\n",
       " 12,\n",
       " 44,\n",
       " 63,\n",
       " 43,\n",
       " 66,\n",
       " 63,\n",
       " 7,\n",
       " 5,\n",
       " 63,\n",
       " 43,\n",
       " 45,\n",
       " 12,\n",
       " 63,\n",
       " 63,\n",
       " 66,\n",
       " 12,\n",
       " 50,\n",
       " 49,\n",
       " 7,\n",
       " 7,\n",
       " 50]"
      ]
     },
     "execution_count": 91,
     "metadata": {},
     "output_type": "execute_result"
    }
   ],
   "source": [
    "list(sampler)"
   ]
  },
  {
   "cell_type": "code",
   "execution_count": 92,
   "metadata": {
    "scrolled": true
   },
   "outputs": [
    {
     "name": "stdout",
     "output_type": "stream",
     "text": [
      "\n",
      "0 | Labels counts: \n",
      "  current: | '0': 4 | '1': 2 | '2': 1 | '3': 1 | '4': 2 | \n",
      "    total: \n",
      "'  0':     4 | '  1':     2 | '  2':     1 | '  3':     1 | '  4':     2 | \n",
      "\n",
      "1 | Labels counts: \n",
      "  current: | '0': 3 | '1': 2 | '2': 2 | '4': 3 | \n",
      "    total: \n",
      "'  0':     7 | '  1':     4 | '  2':     3 | '  3':     1 | '  4':     5 | \n",
      "\n",
      "2 | Labels counts: \n",
      "  current: | '0': 1 | '1': 2 | '2': 3 | '3': 2 | '4': 2 | \n",
      "    total: \n",
      "'  0':     8 | '  1':     6 | '  2':     6 | '  3':     3 | '  4':     7 | \n",
      "\n",
      "3 | Labels counts: \n",
      "  current: | '0': 2 | '1': 3 | '2': 2 | '3': 2 | '4': 1 | \n",
      "    total: \n",
      "'  0':    10 | '  1':     9 | '  2':     8 | '  3':     5 | '  4':     8 | \n",
      "\n",
      "4 | Labels counts: \n",
      "  current: | '0': 1 | '1': 5 | '2': 3 | '4': 1 | \n",
      "    total: \n",
      "'  0':    11 | '  1':    14 | '  2':    11 | '  3':     5 | '  4':     9 | \n",
      "\n",
      "5 | Labels counts: \n",
      "  current: | '0': 3 | '1': 2 | '2': 2 | '3': 2 | '4': 1 | \n",
      "    total: \n",
      "'  0':    14 | '  1':    16 | '  2':    13 | '  3':     7 | '  4':    10 | \n",
      "\n",
      "6 | Labels counts: \n",
      "  current: | '0': 1 | '2': 3 | '3': 1 | '4': 2 | \n",
      "    total: \n",
      "'  0':    15 | '  1':    16 | '  2':    16 | '  3':     8 | '  4':    12 | \n"
     ]
    }
   ],
   "source": [
    "from collections import defaultdict, Hashable\n",
    "total_y_stats = defaultdict(int)\n",
    "cnt = 0\n",
    "display_freq = 1\n",
    "display_total = True\n",
    "\n",
    "for i, batch_y in enumerate(train_batches_ds):\n",
    "    y_stats = defaultdict(int)\n",
    "    for y in batch_y:\n",
    "        if isinstance(y, Hashable):\n",
    "            total_y_stats[y] += 1 \n",
    "            y_stats[y] += 1\n",
    "                    \n",
    "    if (cnt % display_freq) == 0:\n",
    "        print(\"\\n%i | Labels counts: \" % cnt)\n",
    "        print(\"  current: | \", end='')\n",
    "        for k in y_stats:\n",
    "            print(\"'{}': {} |\".format(str(k), y_stats[k]), end=' ')\n",
    "        print('')\n",
    "        if display_total:\n",
    "            print(\"    total: \")\n",
    "            for j, k in enumerate(total_y_stats):\n",
    "                if j > 0 and j % 6 == 0:\n",
    "                    print(\"\")\n",
    "                print(\"'{0: >3}': {1: >5}\".format(k, total_y_stats[k]), end=' | ')\n",
    "            print('')                    \n",
    "    cnt += 1\n",
    "    \n",
    "    if i == 200:\n",
    "        break"
   ]
  },
  {
   "cell_type": "code",
   "execution_count": null,
   "metadata": {},
   "outputs": [],
   "source": []
  },
  {
   "cell_type": "code",
   "execution_count": null,
   "metadata": {},
   "outputs": [],
   "source": []
  },
  {
   "cell_type": "code",
   "execution_count": 13,
   "metadata": {},
   "outputs": [],
   "source": [
    "gamma1 = 0.3567\n",
    "gamma2 = 0.789\n",
    "gamma3 = 0.5\n",
    "gamma4 = 0.2345\n",
    "epochs = np.arange(12)\n",
    "lr_init = 0.000123\n",
    "\n",
    "step = 2.0\n",
    "\n",
    "lrs1 = lr_init * gamma1 ** epochs\n",
    "lrs2 = lr_init * gamma2 ** epochs\n",
    "lrs21 = lr_init * 10 * gamma2 ** epochs\n",
    "lrs3 = lr_init * gamma3 ** epochs\n",
    "lrs4 = lr_init * gamma4 ** (epochs // step)"
   ]
  },
  {
   "cell_type": "code",
   "execution_count": 14,
   "metadata": {},
   "outputs": [],
   "source": [
    "import matplotlib.pylab as plt\n",
    "%matplotlib inline"
   ]
  },
  {
   "cell_type": "code",
   "execution_count": 15,
   "metadata": {},
   "outputs": [
    {
     "data": {
      "text/plain": [
       "<matplotlib.legend.Legend at 0x7f3200c87510>"
      ]
     },
     "execution_count": 15,
     "metadata": {},
     "output_type": "execute_result"
    },
    {
     "data": {
      "image/png": "[encoded data removed]",
      "text/plain": [
       "<matplotlib.figure.Figure at 0x7f3200d621d0>"
      ]
     },
     "metadata": {},
     "output_type": "display_data"
    }
   ],
   "source": [
    "plt.plot(epochs, lrs1, label='gamma=%f' % gamma1)\n",
    "plt.plot(epochs, lrs2, label='gamma=%f' % gamma2)\n",
    "plt.plot(epochs, lrs21, label='gamma=%f' % gamma2)\n",
    "plt.plot(epochs, lrs3, label='gamma=%f' % gamma3)\n",
    "plt.plot(epochs, lrs4, label='gamma=%f' % gamma4)\n",
    "plt.legend()"
   ]
  },
  {
   "cell_type": "code",
   "execution_count": null,
   "metadata": {},
   "outputs": [],
   "source": []
  },
  {
   "cell_type": "code",
   "execution_count": null,
   "metadata": {},
   "outputs": [],
   "source": []
  },
  {
   "cell_type": "code",
   "execution_count": 23,
   "metadata": {},
   "outputs": [],
   "source": [
    "from sklearn.model_selection import StratifiedShuffleSplit"
   ]
  },
  {
   "cell_type": "code",
   "execution_count": 24,
   "metadata": {},
   "outputs": [],
   "source": [
    "x = []\n",
    "y = []\n",
    "lls = [20, 15, 14, 10, 7]\n",
    "for i, l in enumerate(['a', 'b', 'c', 'd', 'e']):\n",
    "    for k in range(lls[i]):\n",
    "        x.append(l + str(k))\n",
    "        y.append(i)"
   ]
  },
  {
   "cell_type": "code",
   "execution_count": 25,
   "metadata": {},
   "outputs": [],
   "source": [
    "sssplit = StratifiedShuffleSplit(test_size=0.1, random_state=12345)\n",
    "train_indices, val_indices = next(sssplit.split(x, y))"
   ]
  },
  {
   "cell_type": "code",
   "execution_count": 26,
   "metadata": {},
   "outputs": [],
   "source": [
    "x_train = np.array(x)[train_indices]\n",
    "y_train = np.array(y)[train_indices]"
   ]
  },
  {
   "cell_type": "code",
   "execution_count": 27,
   "metadata": {},
   "outputs": [
    {
     "data": {
      "text/plain": [
       "array(['c8', 'b5', 'a15', 'c1', 'c2', 'd7', 'b13', 'a6', 'c6', 'a4', 'a9',\n",
       "       'c13', 'c11', 'c0', 'a19', 'a11', 'd8', 'd3', 'a17', 'b11', 'e1',\n",
       "       'b7', 'a18', 'c5', 'e4', 'b0', 'b9', 'e5', 'e2', 'b10', 'a12', 'c9',\n",
       "       'a8', 'd4', 'b3', 'a7', 'a16', 'a0', 'd0', 'a3', 'c4', 'c10', 'b6',\n",
       "       'c12', 'd9', 'a14', 'd1', 'b8', 'a13', 'a1', 'a10', 'b4', 'b14',\n",
       "       'd2', 'e3', 'd6', 'b12', 'c7', 'e6'],\n",
       "      dtype='|S3')"
      ]
     },
     "execution_count": 27,
     "metadata": {},
     "output_type": "execute_result"
    }
   ],
   "source": [
    "x_train"
   ]
  },
  {
   "cell_type": "code",
   "execution_count": null,
   "metadata": {},
   "outputs": [],
   "source": [
    "# class RandomUniformSampler(object):\n",
    "    \n",
    "#     def __init__(self, targets):\n",
    "#         self.targets = targets\n",
    "#         self.num_samples = len(targets)\n",
    "#         self.weights = \n",
    "        \n",
    "#     def __iter__(self):\n",
    "#         return iter(torch.multinomial(self.weights, self.num_samples, self.replacement))\n",
    "\n",
    "#     def __len__(self):\n",
    "#         return self.num_samples\n",
    "\n",
    "    "
   ]
  },
  {
   "cell_type": "code",
   "execution_count": 32,
   "metadata": {},
   "outputs": [],
   "source": [
    "counts = np.bincount(y_train)\n",
    "class_weights = 1.0 / np.log10(counts * 1.0 / np.sum(counts) + 1.0)\n",
    "sample_weights = np.zeros_like(y_train, dtype=np.float)\n",
    "for i in range(len(class_weights)):\n",
    "    sample_weights[y_train == i] = class_weights[i]"
   ]
  },
  {
   "cell_type": "code",
   "execution_count": 33,
   "metadata": {},
   "outputs": [],
   "source": [
    "weighted_sampler = WeightedRandomSampler(sample_weights, num_samples=len(y_train))"
   ]
  },
  {
   "cell_type": "code",
   "execution_count": 35,
   "metadata": {
    "scrolled": true
   },
   "outputs": [
    {
     "name": "stdout",
     "output_type": "stream",
     "text": [
      "d9 3\n",
      "b10 1\n",
      "e1 4\n",
      "c2 2\n",
      "d3 3\n",
      "b8 1\n",
      "c5 2\n",
      "c13 2\n",
      "a9 0\n",
      "d6 3\n",
      "d2 3\n",
      "a0 0\n",
      "e2 4\n",
      "d4 3\n",
      "a13 0\n",
      "e2 4\n",
      "d7 3\n",
      "b8 1\n",
      "d4 3\n",
      "d7 3\n",
      "d6 3\n",
      "d9 3\n",
      "a1 0\n",
      "c12 2\n",
      "c8 2\n",
      "b7 1\n",
      "c5 2\n",
      "b11 1\n",
      "d4 3\n",
      "d0 3\n",
      "d6 3\n",
      "c11 2\n",
      "e6 4\n",
      "a7 0\n",
      "c9 2\n",
      "e1 4\n",
      "b7 1\n",
      "b10 1\n",
      "e2 4\n",
      "e4 4\n",
      "b12 1\n",
      "c4 2\n",
      "e1 4\n",
      "b14 1\n",
      "a16 0\n",
      "d3 3\n",
      "e5 4\n",
      "b7 1\n",
      "d4 3\n",
      "a6 0\n",
      "a1 0\n",
      "e1 4\n",
      "e1 4\n",
      "d0 3\n",
      "a13 0\n",
      "d8 3\n",
      "c13 2\n",
      "e6 4\n",
      "b6 1\n"
     ]
    }
   ],
   "source": [
    "for index in list(weighted_sampler):\n",
    "    y = y_train[index]\n",
    "    x = x_train[index]\n",
    "    print(x, y)\n"
   ]
  },
  {
   "cell_type": "code",
   "execution_count": null,
   "metadata": {},
   "outputs": [],
   "source": []
  },
  {
   "cell_type": "code",
   "execution_count": null,
   "metadata": {},
   "outputs": [],
   "source": []
  },
  {
   "cell_type": "code",
   "execution_count": null,
   "metadata": {},
   "outputs": [],
   "source": []
  }
 ],
 "metadata": {
  "kernelspec": {
   "display_name": "Python 2",
   "language": "python",
   "name": "python2"
  },
  "language_info": {
   "codemirror_mode": {
    "name": "ipython",
    "version": 2
   },
   "file_extension": ".py",
   "mimetype": "text/x-python",
   "name": "python",
   "nbconvert_exporter": "python",
   "pygments_lexer": "ipython2",
   "version": "2.7.12"
  }
 },
 "nbformat": 4,
 "nbformat_minor": 2
}
